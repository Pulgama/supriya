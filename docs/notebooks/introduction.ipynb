{
 "cells": [
  {
   "cell_type": "markdown",
   "metadata": {
    "slideshow": {
     "slide_type": "slide"
    }
   },
   "source": [
    "# Introducing Supriya\n",
    "\n",
    "A Python API for SuperCollider\n",
    "\n",
    "https://github.com/josiah-wolf-oberholtzer/supriya"
   ]
  },
  {
   "cell_type": "markdown",
   "metadata": {
    "slideshow": {
     "slide_type": "subslide"
    }
   },
   "source": [
    "## Supriya lets you..."
   ]
  },
  {
   "cell_type": "markdown",
   "metadata": {
    "slideshow": {
     "slide_type": "fragment"
    }
   },
   "source": [
    "- boot and communicate with SuperCollider's `scsynth` synthesis server"
   ]
  },
  {
   "cell_type": "markdown",
   "metadata": {
    "slideshow": {
     "slide_type": "fragment"
    }
   },
   "source": [
    "- construct and compile SynthDef unit generator graphs in native Python code"
   ]
  },
  {
   "cell_type": "markdown",
   "metadata": {
    "slideshow": {
     "slide_type": "fragment"
    }
   },
   "source": [
    "- build and control graphs of synthesizers and synthesizer groups"
   ]
  },
  {
   "cell_type": "markdown",
   "metadata": {
    "slideshow": {
     "slide_type": "fragment"
    }
   },
   "source": [
    "- explicitly object-model `scsynth`-specific OSC commands  via `Request` and `Response` classes"
   ]
  },
  {
   "cell_type": "markdown",
   "metadata": {
    "slideshow": {
     "slide_type": "fragment"
    }
   },
   "source": [
    "- compile non-realtime synthesis scores via Supriya's `Session` class"
   ]
  },
  {
   "cell_type": "markdown",
   "metadata": {
    "slideshow": {
     "slide_type": "fragment"
    }
   },
   "source": [
    "- write patterns for realtime or non-realtime synthesis"
   ]
  },
  {
   "cell_type": "markdown",
   "metadata": {
    "slideshow": {
     "slide_type": "subslide"
    }
   },
   "source": [
    "A lot of the same stuff you do with `sclang` and `scide`, just in Python instead."
   ]
  },
  {
   "cell_type": "markdown",
   "metadata": {
    "slideshow": {
     "slide_type": "slide"
    }
   },
   "source": [
    "## About the author"
   ]
  },
  {
   "cell_type": "markdown",
   "metadata": {
    "slideshow": {
     "slide_type": "fragment"
    }
   },
   "source": [
    "- A composer and programmer\n",
    "  - https://github.com/josiah-wolf-oberholtzer\n",
    "  - https://soundcloud.com/josiah-wolf-oberholtzer/in-the-tall-grasses"
   ]
  },
  {
   "cell_type": "markdown",
   "metadata": {
    "slideshow": {
     "slide_type": "fragment"
    }
   },
   "source": [
    "- PhD from Harvard in Music Composition, specializing in massively multi-channel tape music and symbolic computer-assisted composition"
   ]
  },
  {
   "cell_type": "markdown",
   "metadata": {
    "slideshow": {
     "slide_type": "fragment"
    }
   },
   "source": [
    "- Core contributor to Abjad (https://http://abjad.mbrsi.org/), a Python API for LilyPond"
   ]
  },
  {
   "cell_type": "markdown",
   "metadata": {
    "slideshow": {
     "slide_type": "fragment"
    }
   },
   "source": [
    "- Engineering team lead at Capital One, managing a group developing serverless machine learning applications for hotel reservation arbitrage"
   ]
  },
  {
   "cell_type": "markdown",
   "metadata": {
    "slideshow": {
     "slide_type": "fragment"
    }
   },
   "source": [
    "- Spent way too much time using and teaching Max"
   ]
  },
  {
   "cell_type": "markdown",
   "metadata": {
    "slideshow": {
     "slide_type": "slide"
    }
   },
   "source": [
    "## Hold up, what's Python?"
   ]
  },
  {
   "cell_type": "markdown",
   "metadata": {
    "slideshow": {
     "slide_type": "slide"
    }
   },
   "source": [
    "## OK, but why make another `scsynth` client?"
   ]
  },
  {
   "cell_type": "markdown",
   "metadata": {
    "slideshow": {
     "slide_type": "slide"
    }
   },
   "source": [
    "## Hello World"
   ]
  },
  {
   "cell_type": "code",
   "execution_count": 1,
   "metadata": {
    "slideshow": {
     "slide_type": "fragment"
    }
   },
   "outputs": [],
   "source": [
    "from supriya import Server, Synth"
   ]
  },
  {
   "cell_type": "code",
   "execution_count": 2,
   "metadata": {
    "slideshow": {
     "slide_type": "fragment"
    }
   },
   "outputs": [
    {
     "data": {
      "text/plain": [
       "<Server: udp://127.0.0.1:57751, 8i8o>"
      ]
     },
     "execution_count": 2,
     "metadata": {},
     "output_type": "execute_result"
    }
   ],
   "source": [
    "server = Server()\n",
    "server.boot()"
   ]
  },
  {
   "cell_type": "code",
   "execution_count": 3,
   "metadata": {
    "slideshow": {
     "slide_type": "fragment"
    }
   },
   "outputs": [
    {
     "data": {
      "text/plain": [
       "<+ Synth: 1000>"
      ]
     },
     "execution_count": 3,
     "metadata": {},
     "output_type": "execute_result"
    }
   ],
   "source": [
    "synth = Synth()\n",
    "synth.allocate()"
   ]
  },
  {
   "cell_type": "code",
   "execution_count": 4,
   "metadata": {
    "slideshow": {
     "slide_type": "fragment"
    }
   },
   "outputs": [
    {
     "name": "stdout",
     "output_type": "stream",
     "text": [
      "NODE TREE 0 group\n",
      "    1 group\n",
      "        1000 default\n",
      "            out: 0.0, amplitude: 0.1, frequency: 440.0, gate: 1.0, pan: 0.5\n"
     ]
    }
   ],
   "source": [
    "print(server)"
   ]
  },
  {
   "cell_type": "code",
   "execution_count": 5,
   "metadata": {
    "slideshow": {
     "slide_type": "fragment"
    }
   },
   "outputs": [
    {
     "data": {
      "text/plain": [
       "<+ Synth: 1000>"
      ]
     },
     "execution_count": 5,
     "metadata": {},
     "output_type": "execute_result"
    }
   ],
   "source": [
    "synth.release()"
   ]
  },
  {
   "cell_type": "code",
   "execution_count": 6,
   "metadata": {
    "slideshow": {
     "slide_type": "fragment"
    }
   },
   "outputs": [
    {
     "data": {
      "text/plain": [
       "<Server: offline>"
      ]
     },
     "execution_count": 6,
     "metadata": {},
     "output_type": "execute_result"
    }
   ],
   "source": [
    "server.quit()"
   ]
  },
  {
   "cell_type": "markdown",
   "metadata": {
    "slideshow": {
     "slide_type": "slide"
    }
   },
   "source": [
    "## Hello World (a little more complicated)"
   ]
  },
  {
   "cell_type": "code",
   "execution_count": 7,
   "metadata": {
    "slideshow": {
     "slide_type": "fragment"
    }
   },
   "outputs": [],
   "source": [
    "from supriya import Bus, Group, Server, Synth"
   ]
  },
  {
   "cell_type": "code",
   "execution_count": 8,
   "metadata": {
    "slideshow": {
     "slide_type": "fragment"
    }
   },
   "outputs": [],
   "source": [
    "server = Server().boot()"
   ]
  },
  {
   "cell_type": "code",
   "execution_count": 9,
   "metadata": {
    "slideshow": {
     "slide_type": "fragment"
    }
   },
   "outputs": [],
   "source": [
    "bus = Bus.control().allocate()\n",
    "bus.set(0.5)"
   ]
  },
  {
   "cell_type": "code",
   "execution_count": 10,
   "metadata": {
    "slideshow": {
     "slide_type": "fragment"
    }
   },
   "outputs": [],
   "source": [
    "group = Group().allocate()\n",
    "for i in range(1, 10):\n",
    "    synth = Synth(amplitude=bus, frequency=111 * i)\n",
    "    _ = synth.allocate(target_node=group)"
   ]
  },
  {
   "cell_type": "code",
   "execution_count": 11,
   "metadata": {
    "slideshow": {
     "slide_type": "fragment"
    }
   },
   "outputs": [],
   "source": [
    "bus.set(1)"
   ]
  },
  {
   "cell_type": "code",
   "execution_count": 12,
   "metadata": {
    "slideshow": {
     "slide_type": "fragment"
    }
   },
   "outputs": [],
   "source": [
    "group.controls[\"gate\"] = 0"
   ]
  },
  {
   "cell_type": "code",
   "execution_count": 13,
   "metadata": {
    "slideshow": {
     "slide_type": "fragment"
    }
   },
   "outputs": [
    {
     "data": {
      "text/plain": [
       "<Server: offline>"
      ]
     },
     "execution_count": 13,
     "metadata": {},
     "output_type": "execute_result"
    }
   ],
   "source": [
    "server.quit()"
   ]
  },
  {
   "cell_type": "markdown",
   "metadata": {
    "slideshow": {
     "slide_type": "slide"
    }
   },
   "source": [
    "# Node and Message Aggregation"
   ]
  },
  {
   "cell_type": "markdown",
   "metadata": {
    "slideshow": {
     "slide_type": "subslide"
    }
   },
   "source": [
    "### Nodes (synths and groups) can be aggregated just like Python lists"
   ]
  },
  {
   "cell_type": "code",
   "execution_count": 14,
   "metadata": {
    "slideshow": {
     "slide_type": "-"
    }
   },
   "outputs": [],
   "source": [
    "synth_a = Synth(frequency=444)\n",
    "synth_b = Synth(frequency=555)\n",
    "synth_c = Synth(frequency=666)\n",
    "inner_group = Group()\n",
    "outer_group = Group()\n",
    "inner_group.append(synth_b)\n",
    "outer_group.extend([synth_a, inner_group, synth_c])"
   ]
  },
  {
   "cell_type": "markdown",
   "metadata": {
    "slideshow": {
     "slide_type": "subslide"
    }
   },
   "source": [
    "### Allocation, deallocation, ordering are auto-bundled"
   ]
  },
  {
   "cell_type": "code",
   "execution_count": 15,
   "metadata": {
    "slideshow": {
     "slide_type": "fragment"
    }
   },
   "outputs": [],
   "source": [
    "server = Server().boot()\n",
    "_ = synth_a.synthdef.allocate()  # manual allocation"
   ]
  },
  {
   "cell_type": "code",
   "execution_count": 16,
   "metadata": {
    "slideshow": {
     "slide_type": "fragment"
    }
   },
   "outputs": [],
   "source": [
    "with server.osc_io.capture() as osc_capture:\n",
    "    server.default_group.append(outer_group)  # everything allocated at once!"
   ]
  },
  {
   "cell_type": "code",
   "execution_count": 17,
   "metadata": {
    "slideshow": {
     "slide_type": "fragment"
    }
   },
   "outputs": [
    {
     "name": "stdout",
     "output_type": "stream",
     "text": [
      "OscBundle(\n",
      "    contents=(\n",
      "        OscMessage(21, 1000, 0, 1),\n",
      "        OscMessage(9, 'default', 1001, 0, 1000, 'frequency', 444.0),\n",
      "        OscMessage(21, 1002, 3, 1001),\n",
      "        OscMessage(9, 'default', 1003, 0, 1002, 'frequency', 555.0),\n",
      "        OscMessage(9, 'default', 1004, 3, 1002, 'frequency', 666.0),\n",
      "        OscMessage(52, 0),\n",
      "        ),\n",
      "    )\n"
     ]
    }
   ],
   "source": [
    "for osc_message in osc_capture.sent_messages:\n",
    "    print(repr(osc_message))"
   ]
  },
  {
   "cell_type": "code",
   "execution_count": 18,
   "metadata": {
    "scrolled": true,
    "slideshow": {
     "slide_type": "subslide"
    }
   },
   "outputs": [
    {
     "name": "stdout",
     "output_type": "stream",
     "text": [
      "NODE TREE 0 group\n",
      "    1 group\n",
      "        1000 group\n",
      "            1001 default\n",
      "                out: 0.0, amplitude: 0.1, frequency: 444.0, gate: 1.0, pan: 0.5\n",
      "            1002 group\n",
      "                1003 default\n",
      "                    out: 0.0, amplitude: 0.1, frequency: 555.0, gate: 1.0, pan: 0.5\n",
      "            1004 default\n",
      "                out: 0.0, amplitude: 0.1, frequency: 666.0, gate: 1.0, pan: 0.5\n"
     ]
    }
   ],
   "source": [
    "print(server)"
   ]
  },
  {
   "cell_type": "code",
   "execution_count": 19,
   "metadata": {
    "slideshow": {
     "slide_type": "fragment"
    }
   },
   "outputs": [],
   "source": [
    "with server.osc_io.capture() as osc_capture:\n",
    "    inner_group.extend([synth_a, synth_c])"
   ]
  },
  {
   "cell_type": "code",
   "execution_count": 20,
   "metadata": {
    "slideshow": {
     "slide_type": "fragment"
    }
   },
   "outputs": [
    {
     "name": "stdout",
     "output_type": "stream",
     "text": [
      "OscBundle(\n",
      "    contents=(\n",
      "        OscMessage(19, 1001, 1003),\n",
      "        OscMessage(19, 1004, 1001),\n",
      "        OscMessage(52, 1),\n",
      "        ),\n",
      "    )\n"
     ]
    }
   ],
   "source": [
    "for osc_message in osc_capture.sent_messages:\n",
    "    print(repr(osc_message))"
   ]
  },
  {
   "cell_type": "markdown",
   "metadata": {
    "slideshow": {
     "slide_type": "subslide"
    }
   },
   "source": [
    "### Freed subtrees do not lose their structure"
   ]
  },
  {
   "cell_type": "code",
   "execution_count": 21,
   "metadata": {
    "scrolled": true,
    "slideshow": {
     "slide_type": "-"
    }
   },
   "outputs": [
    {
     "name": "stdout",
     "output_type": "stream",
     "text": [
      "NODE TREE 0 group\n",
      "    1 group\n",
      "        1000 group\n",
      "            1002 group\n",
      "                1003 default\n",
      "                    out: 0.0, amplitude: 0.1, frequency: 555.0, gate: 1.0, pan: 0.5\n",
      "                1001 default\n",
      "                    out: 0.0, amplitude: 0.1, frequency: 444.0, gate: 1.0, pan: 0.5\n",
      "                1004 default\n",
      "                    out: 0.0, amplitude: 0.1, frequency: 666.0, gate: 1.0, pan: 0.5\n"
     ]
    }
   ],
   "source": [
    "print(server)"
   ]
  },
  {
   "cell_type": "code",
   "execution_count": 22,
   "metadata": {
    "slideshow": {
     "slide_type": "fragment"
    }
   },
   "outputs": [
    {
     "data": {
      "text/plain": [
       "<- Group: ???>"
      ]
     },
     "execution_count": 22,
     "metadata": {},
     "output_type": "execute_result"
    }
   ],
   "source": [
    "outer_group.free()"
   ]
  },
  {
   "cell_type": "code",
   "execution_count": 23,
   "metadata": {
    "slideshow": {
     "slide_type": "fragment"
    }
   },
   "outputs": [
    {
     "name": "stdout",
     "output_type": "stream",
     "text": [
      "??? group\n",
      "    ??? group\n",
      "        ??? default\n",
      "            amplitude: 0.1, frequency: 555.0, gate: 1.0, out: 0.0, pan: 0.5\n",
      "        ??? default\n",
      "            amplitude: 0.1, frequency: 444.0, gate: 1.0, out: 0.0, pan: 0.5\n",
      "        ??? default\n",
      "            amplitude: 0.1, frequency: 666.0, gate: 1.0, out: 0.0, pan: 0.5\n"
     ]
    }
   ],
   "source": [
    "print(outer_group)"
   ]
  },
  {
   "cell_type": "markdown",
   "metadata": {
    "slideshow": {
     "slide_type": "subslide"
    }
   },
   "source": [
    "### Message aggregation knows about completion messages"
   ]
  },
  {
   "cell_type": "code",
   "execution_count": 24,
   "metadata": {
    "slideshow": {
     "slide_type": "-"
    }
   },
   "outputs": [],
   "source": [
    "synth_a.synthdef.free()  # this is really the default synthdef\n",
    "with server.osc_io.capture() as osc_capture:\n",
    "    outer_group.allocate()"
   ]
  },
  {
   "cell_type": "markdown",
   "metadata": {
    "slideshow": {
     "slide_type": "fragment"
    }
   },
   "source": [
    "Oh boy..."
   ]
  },
  {
   "cell_type": "code",
   "execution_count": 25,
   "metadata": {
    "slideshow": {
     "slide_type": "fragment"
    }
   },
   "outputs": [
    {
     "name": "stdout",
     "output_type": "stream",
     "text": [
      "OscMessage(5, bytearray(b'SCgf\\x00\\x00\\x00\\x02\\x00\\x01\\x07default\\x00\\x00\\x00\\x0c\\x00\\x00\\x00\\x00>\\x99\\x99\\x9a<#\\xd7\\n?333@\\x00\\x00\\x00\\xbe\\xcc\\xcc\\xcd>\\xcc\\xcc\\xcdEz\\x00\\x00E\\x9c@\\x00E\\x1c@\\x00EH\\x00\\x00?\\x80\\x00\\x00\\x00\\x00\\x00\\x05\\x00\\x00\\x00\\x00=\\xcc\\xcc\\xcdC\\xdc\\x00\\x00?\\x80\\x00\\x00?\\x00\\x00\\x00\\x00\\x00\\x00\\x05\\tamplitude\\x00\\x00\\x00\\x01\\tfrequency\\x00\\x00\\x00\\x02\\x04gate\\x00\\x00\\x00\\x03\\x03out\\x00\\x00\\x00\\x00\\x03pan\\x00\\x00\\x00\\x04\\x00\\x00\\x00\\x14\\x07Control\\x00\\x00\\x00\\x00\\x00\\x00\\x00\\x00\\x01\\x00\\x00\\x00\\x07Control\\x01\\x00\\x00\\x00\\x00\\x00\\x00\\x00\\x04\\x00\\x01\\x01\\x01\\x01\\x01\\x06VarSaw\\x02\\x00\\x00\\x00\\x03\\x00\\x00\\x00\\x01\\x00\\x00\\x00\\x00\\x00\\x01\\x00\\x00\\x00\\x01\\xff\\xff\\xff\\xff\\x00\\x00\\x00\\x00\\xff\\xff\\xff\\xff\\x00\\x00\\x00\\x01\\x02\\x05Linen\\x01\\x00\\x00\\x00\\x05\\x00\\x00\\x00\\x01\\x00\\x00\\x00\\x00\\x00\\x01\\x00\\x00\\x00\\x02\\xff\\xff\\xff\\xff\\x00\\x00\\x00\\x02\\xff\\xff\\xff\\xff\\x00\\x00\\x00\\x03\\xff\\xff\\xff\\xff\\x00\\x00\\x00\\x01\\xff\\xff\\xff\\xff\\x00\\x00\\x00\\x04\\x01\\x04Rand\\x00\\x00\\x00\\x00\\x02\\x00\\x00\\x00\\x01\\x00\\x00\\xff\\xff\\xff\\xff\\x00\\x00\\x00\\x05\\xff\\xff\\xff\\xff\\x00\\x00\\x00\\x00\\x00\\x0cBinaryOpUGen\\x01\\x00\\x00\\x00\\x02\\x00\\x00\\x00\\x01\\x00\\x00\\x00\\x00\\x00\\x01\\x00\\x00\\x00\\x01\\x00\\x00\\x00\\x04\\x00\\x00\\x00\\x00\\x01\\x06VarSaw\\x02\\x00\\x00\\x00\\x03\\x00\\x00\\x00\\x01\\x00\\x00\\x00\\x00\\x00\\x05\\x00\\x00\\x00\\x00\\xff\\xff\\xff\\xff\\x00\\x00\\x00\\x00\\xff\\xff\\xff\\xff\\x00\\x00\\x00\\x01\\x02\\x04Rand\\x00\\x00\\x00\\x00\\x02\\x00\\x00\\x00\\x01\\x00\\x00\\xff\\xff\\xff\\xff\\x00\\x00\\x00\\x00\\xff\\xff\\xff\\xff\\x00\\x00\\x00\\x06\\x00\\x0cBinaryOpUGen\\x01\\x00\\x00\\x00\\x02\\x00\\x00\\x00\\x01\\x00\\x00\\x00\\x00\\x00\\x01\\x00\\x00\\x00\\x01\\x00\\x00\\x00\\x07\\x00\\x00\\x00\\x00\\x01\\x06VarSaw\\x02\\x00\\x00\\x00\\x03\\x00\\x00\\x00\\x01\\x00\\x00\\x00\\x00\\x00\\x08\\x00\\x00\\x00\\x00\\xff\\xff\\xff\\xff\\x00\\x00\\x00\\x00\\xff\\xff\\xff\\xff\\x00\\x00\\x00\\x01\\x02\\x04Sum3\\x02\\x00\\x00\\x00\\x03\\x00\\x00\\x00\\x01\\x00\\x00\\x00\\x00\\x00\\x02\\x00\\x00\\x00\\x00\\x00\\x00\\x00\\x06\\x00\\x00\\x00\\x00\\x00\\x00\\x00\\t\\x00\\x00\\x00\\x00\\x02\\x0cBinaryOpUGen\\x02\\x00\\x00\\x00\\x02\\x00\\x00\\x00\\x01\\x00\\x02\\x00\\x00\\x00\\n\\x00\\x00\\x00\\x00\\xff\\xff\\xff\\xff\\x00\\x00\\x00\\x01\\x02\\x04Rand\\x00\\x00\\x00\\x00\\x02\\x00\\x00\\x00\\x01\\x00\\x00\\xff\\xff\\xff\\xff\\x00\\x00\\x00\\x07\\xff\\xff\\xff\\xff\\x00\\x00\\x00\\x08\\x00\\x04Rand\\x00\\x00\\x00\\x00\\x02\\x00\\x00\\x00\\x01\\x00\\x00\\xff\\xff\\xff\\xff\\x00\\x00\\x00\\t\\xff\\xff\\xff\\xff\\x00\\x00\\x00\\n\\x00\\x05XLine\\x01\\x00\\x00\\x00\\x04\\x00\\x00\\x00\\x01\\x00\\x00\\x00\\x00\\x00\\x0c\\x00\\x00\\x00\\x00\\x00\\x00\\x00\\r\\x00\\x00\\x00\\x00\\xff\\xff\\xff\\xff\\x00\\x00\\x00\\x0b\\xff\\xff\\xff\\xff\\x00\\x00\\x00\\x00\\x01\\x03LPF\\x02\\x00\\x00\\x00\\x02\\x00\\x00\\x00\\x01\\x00\\x00\\x00\\x00\\x00\\x0b\\x00\\x00\\x00\\x00\\x00\\x00\\x00\\x0e\\x00\\x00\\x00\\x00\\x02\\x0cBinaryOpUGen\\x02\\x00\\x00\\x00\\x02\\x00\\x00\\x00\\x01\\x00\\x02\\x00\\x00\\x00\\x0f\\x00\\x00\\x00\\x00\\x00\\x00\\x00\\x03\\x00\\x00\\x00\\x00\\x02\\x0cBinaryOpUGen\\x02\\x00\\x00\\x00\\x02\\x00\\x00\\x00\\x01\\x00\\x02\\x00\\x00\\x00\\x10\\x00\\x00\\x00\\x00\\x00\\x00\\x00\\x01\\x00\\x00\\x00\\x00\\x02\\x04Pan2\\x02\\x00\\x00\\x00\\x03\\x00\\x00\\x00\\x02\\x00\\x00\\x00\\x00\\x00\\x11\\x00\\x00\\x00\\x00\\x00\\x00\\x00\\x01\\x00\\x00\\x00\\x03\\xff\\xff\\xff\\xff\\x00\\x00\\x00\\x0b\\x02\\x02\\tOffsetOut\\x02\\x00\\x00\\x00\\x03\\x00\\x00\\x00\\x00\\x00\\x00\\x00\\x00\\x00\\x00\\x00\\x00\\x00\\x00\\x00\\x00\\x00\\x12\\x00\\x00\\x00\\x00\\x00\\x00\\x00\\x12\\x00\\x00\\x00\\x01\\x00\\x00'), OscBundle(\n",
      "    contents=(\n",
      "        OscMessage(21, 1005, 0, 1),\n",
      "        OscMessage(21, 1006, 0, 1005),\n",
      "        OscMessage(9, 'default', 1007, 0, 1006, 'frequency', 555.0),\n",
      "        OscMessage(9, 'default', 1008, 3, 1007, 'frequency', 444.0),\n",
      "        OscMessage(9, 'default', 1009, 3, 1008, 'frequency', 666.0),\n",
      "        ),\n",
      "    ))\n"
     ]
    }
   ],
   "source": [
    "for osc_message in osc_capture.sent_messages:\n",
    "    print(repr(osc_message))"
   ]
  },
  {
   "cell_type": "code",
   "execution_count": 26,
   "metadata": {
    "slideshow": {
     "slide_type": "fragment"
    }
   },
   "outputs": [
    {
     "data": {
      "text/plain": [
       "<Server: offline>"
      ]
     },
     "execution_count": 26,
     "metadata": {},
     "output_type": "execute_result"
    }
   ],
   "source": [
    "server.quit()"
   ]
  },
  {
   "cell_type": "markdown",
   "metadata": {
    "slideshow": {
     "slide_type": "slide"
    }
   },
   "source": [
    "## Graphing (with Graphviz)"
   ]
  },
  {
   "cell_type": "code",
   "execution_count": 27,
   "metadata": {
    "slideshow": {
     "slide_type": "-"
    }
   },
   "outputs": [],
   "source": [
    "%reload_ext supriya.ext.ipython"
   ]
  },
  {
   "cell_type": "code",
   "execution_count": 30,
   "metadata": {},
   "outputs": [
    {
     "data": {
      "image/svg+xml": [
       "<?xml version=\"1.0\" ?>\n",
       "<!DOCTYPE svg\n",
       "  PUBLIC '-//W3C//DTD SVG 1.1//EN'\n",
       "  'http://www.w3.org/Graphics/SVG/1.1/DTD/svg11.dtd'>\n",
       "<!-- Generated by graphviz version 2.40.1 (20161225.0304)\n",
       " -->\n",
       "<!-- Title: synthdef_default Pages: 1 -->\n",
       "<svg preserveAspectRatio=\"xMinYMin\" viewBox=\"0.00 0.00 1495.00 537.50\" xmlns=\"http://www.w3.org/2000/svg\" xmlns:xlink=\"http://www.w3.org/1999/xlink\">\n",
       "\t\n",
       "\n",
       "\t<g class=\"graph\" id=\"graph0\" transform=\"scale(1 1) rotate(0) translate(4 533.5)\">\n",
       "\t\t\n",
       "\n",
       "\t\t<title>synthdef_default</title>\n",
       "\t\t\n",
       "\n",
       "\t\t<!-- ugen_0&#45;&gt;ugen_19 -->\n",
       "\t\t\n",
       "\n",
       "\t\t<g class=\"edge\" id=\"edge1\">\n",
       "\t\t\t\n",
       "\n",
       "\t\t\t<title>ugen_0:e-&gt;ugen_19:w</title>\n",
       "\t\t\t\n",
       "\n",
       "\t\t\t<path d=\"M1352,-271C1394.8366,-271 1387.1186,-213.6987 1421.661,-204.2977\" fill=\"none\" stroke=\"#fa8072\" stroke-width=\"2\"/>\n",
       "\t\t\t\n",
       "\n",
       "\t\t\t<polygon fill=\"#fa8072\" points=\"1422.5138,-207.7182 1432,-203 1421.6419,-200.7727 1422.5138,-207.7182\" stroke=\"#fa8072\" stroke-width=\"2\"/>\n",
       "\t\t\t\n",
       "\n",
       "\t\t</g>\n",
       "\t\t\n",
       "\n",
       "\t\t<!-- ugen_1&#45;&gt;ugen_17 -->\n",
       "\t\t\n",
       "\n",
       "\t\t<g class=\"edge\" id=\"edge2\">\n",
       "\t\t\t\n",
       "\n",
       "\t\t\t<title>ugen_1:e-&gt;ugen_17:w</title>\n",
       "\t\t\t\n",
       "\n",
       "\t\t\t<path d=\"M70,-478C194.6722,-478 222.8278,-519 347.5,-519 347.5,-519 347.5,-519 835.5,-519 904.1747,-519 974.3359,-456.4277 1050,-382 1086.1349,-346.4555 1070.2112,-291.2129 1111.859,-283.8263\" fill=\"none\" stroke=\"#daa520\" stroke-width=\"2\"/>\n",
       "\t\t\t\n",
       "\n",
       "\t\t\t<polygon fill=\"#daa520\" points=\"1112.3173,-287.3007 1122,-283 1111.7487,-280.3238 1112.3173,-287.3007\" stroke=\"#daa520\" stroke-width=\"2\"/>\n",
       "\t\t\t\n",
       "\n",
       "\t\t</g>\n",
       "\t\t\n",
       "\n",
       "\t\t<!-- ugen_1&#45;&gt;ugen_18 -->\n",
       "\t\t\n",
       "\n",
       "\t\t<g class=\"edge\" id=\"edge7\">\n",
       "\t\t\t\n",
       "\n",
       "\t\t\t<title>ugen_1:e-&gt;ugen_18:w</title>\n",
       "\t\t\t\n",
       "\n",
       "\t\t\t<path d=\"M70,-376C200.0978,-376 68.8993,-195.0985 152,-95 213.7066,-20.6717 250.8957,0 347.5,0 347.5,0 347.5,0 1002,0 1146.9321,0 1141.9166,-161.171 1279.8199,-168.7258\" fill=\"none\" stroke=\"#daa520\" stroke-width=\"2\"/>\n",
       "\t\t\t\n",
       "\n",
       "\t\t\t<polygon fill=\"#daa520\" points=\"1279.9094,-172.2294 1290,-169 1280.0979,-165.232 1279.9094,-172.2294\" stroke=\"#daa520\" stroke-width=\"2\"/>\n",
       "\t\t\t\n",
       "\n",
       "\t\t</g>\n",
       "\t\t\n",
       "\n",
       "\t\t<!-- ugen_1&#45;&gt;ugen_2 -->\n",
       "\t\t\n",
       "\n",
       "\t\t<g class=\"edge\" id=\"edge3\">\n",
       "\t\t\t\n",
       "\n",
       "\t\t\t<title>ugen_1:e-&gt;ugen_2:w</title>\n",
       "\t\t\t\n",
       "\n",
       "\t\t\t<path d=\"M70,-444C172.2557,-444 194.7794,-394.4611 291.7404,-391.1714\" fill=\"none\" stroke=\"#daa520\" stroke-width=\"2\"/>\n",
       "\t\t\t\n",
       "\n",
       "\t\t\t<polygon fill=\"#daa520\" points=\"292.0599,-394.6667 302,-391 291.9429,-387.6676 292.0599,-394.6667\" stroke=\"#daa520\" stroke-width=\"2\"/>\n",
       "\t\t\t\n",
       "\n",
       "\t\t</g>\n",
       "\t\t\n",
       "\n",
       "\t\t<!-- ugen_1&#45;&gt;ugen_3 -->\n",
       "\t\t\n",
       "\n",
       "\t\t<g class=\"edge\" id=\"edge6\">\n",
       "\t\t\t\n",
       "\n",
       "\t\t\t<title>ugen_1:e-&gt;ugen_3:w</title>\n",
       "\t\t\t\n",
       "\n",
       "\t\t\t<path d=\"M70,-410C174.2779,-410 198.0223,-437.0936 302,-445 514.4496,-461.1545 570.8054,-446.4738 778.9714,-446.0111\" fill=\"none\" stroke=\"#daa520\" stroke-width=\"2\"/>\n",
       "\t\t\t\n",
       "\n",
       "\t\t\t<polygon fill=\"#daa520\" points=\"779.0039,-449.5112 789,-446 778.9961,-442.5112 779.0039,-449.5112\" stroke=\"#daa520\" stroke-width=\"2\"/>\n",
       "\t\t\t\n",
       "\n",
       "\t\t</g>\n",
       "\t\t\n",
       "\n",
       "\t\t<!-- ugen_1&#45;&gt;ugen_5 -->\n",
       "\t\t\n",
       "\n",
       "\t\t<g class=\"edge\" id=\"edge4\">\n",
       "\t\t\t\n",
       "\n",
       "\t\t\t<title>ugen_1:e-&gt;ugen_5:w</title>\n",
       "\t\t\t\n",
       "\n",
       "\t\t\t<path d=\"M70,-444C149.3538,-444 76.1387,-290.7547 141.7851,-276.9866\" fill=\"none\" stroke=\"#daa520\" stroke-width=\"2\"/>\n",
       "\t\t\t\n",
       "\n",
       "\t\t\t<polygon fill=\"#daa520\" points=\"142.3828,-280.4452 152,-276 141.7098,-273.4777 142.3828,-280.4452\" stroke=\"#daa520\" stroke-width=\"2\"/>\n",
       "\t\t\t\n",
       "\n",
       "\t\t</g>\n",
       "\t\t\n",
       "\n",
       "\t\t<!-- ugen_1&#45;&gt;ugen_8 -->\n",
       "\t\t\n",
       "\n",
       "\t\t<g class=\"edge\" id=\"edge5\">\n",
       "\t\t\t\n",
       "\n",
       "\t\t\t<title>ugen_1:e-&gt;ugen_8:w</title>\n",
       "\t\t\t\n",
       "\n",
       "\t\t\t<path d=\"M70,-444C208.0604,-444 20.3447,-151.4421 141.8618,-136.5856\" fill=\"none\" stroke=\"#daa520\" stroke-width=\"2\"/>\n",
       "\t\t\t\n",
       "\n",
       "\t\t\t<polygon fill=\"#daa520\" points=\"142.2185,-140.0709 152,-136 141.8148,-133.0826 142.2185,-140.0709\" stroke=\"#daa520\" stroke-width=\"2\"/>\n",
       "\t\t\t\n",
       "\n",
       "\t\t</g>\n",
       "\t\t\n",
       "\n",
       "\t\t<!-- ugen_10&#45;&gt;ugen_11 -->\n",
       "\t\t\n",
       "\n",
       "\t\t<g class=\"edge\" id=\"edge8\">\n",
       "\t\t\t\n",
       "\n",
       "\t\t\t<title>ugen_10:e-&gt;ugen_11:w</title>\n",
       "\t\t\t\n",
       "\n",
       "\t\t\t<path d=\"M549,-127C577.375,-127 586.8795,-127 610.9792,-127\" fill=\"none\" stroke=\"#4682b4\" stroke-width=\"2\"/>\n",
       "\t\t\t\n",
       "\n",
       "\t\t\t<polygon fill=\"#4682b4\" points=\"611,-130.5001 621,-127 611,-123.5001 611,-130.5001\" stroke=\"#4682b4\" stroke-width=\"2\"/>\n",
       "\t\t\t\n",
       "\n",
       "\t\t</g>\n",
       "\t\t\n",
       "\n",
       "\t\t<!-- ugen_11&#45;&gt;ugen_15 -->\n",
       "\t\t\n",
       "\n",
       "\t\t<g class=\"edge\" id=\"edge9\">\n",
       "\t\t\t\n",
       "\n",
       "\t\t\t<title>ugen_11:e-&gt;ugen_15:w</title>\n",
       "\t\t\t\n",
       "\n",
       "\t\t\t<path d=\"M717,-110C779.1105,-110 736.1926,-221.2409 786.4054,-233.8424\" fill=\"none\" stroke=\"#4682b4\" stroke-width=\"2\"/>\n",
       "\t\t\t\n",
       "\n",
       "\t\t\t<polygon fill=\"#4682b4\" points=\"786.1663,-237.3378 796.5,-235 786.9639,-230.3834 786.1663,-237.3378\" stroke=\"#4682b4\" stroke-width=\"2\"/>\n",
       "\t\t\t\n",
       "\n",
       "\t\t</g>\n",
       "\t\t\n",
       "\n",
       "\t\t<!-- ugen_12&#45;&gt;ugen_14 -->\n",
       "\t\t\n",
       "\n",
       "\t\t<g class=\"edge\" id=\"edge10\">\n",
       "\t\t\t\n",
       "\n",
       "\t\t\t<title>ugen_12:e-&gt;ugen_14:w</title>\n",
       "\t\t\t\n",
       "\n",
       "\t\t\t<path d=\"M547,-367C587.4173,-367 581.3371,-314.3629 613.7626,-305.3158\" fill=\"none\" stroke=\"#fa8072\" stroke-width=\"2\"/>\n",
       "\t\t\t\n",
       "\n",
       "\t\t\t<polygon fill=\"#fa8072\" points=\"614.5278,-308.7464 624,-304 613.6354,-301.8035 614.5278,-308.7464\" stroke=\"#fa8072\" stroke-width=\"2\"/>\n",
       "\t\t\t\n",
       "\n",
       "\t\t</g>\n",
       "\t\t\n",
       "\n",
       "\t\t<!-- ugen_13&#45;&gt;ugen_14 -->\n",
       "\t\t\n",
       "\n",
       "\t\t<g class=\"edge\" id=\"edge11\">\n",
       "\t\t\t\n",
       "\n",
       "\t\t\t<title>ugen_13:e-&gt;ugen_14:w</title>\n",
       "\t\t\t\n",
       "\n",
       "\t\t\t<path d=\"M547,-246C581.2603,-246 585.4721,-276.1263 613.8636,-282.0103\" fill=\"none\" stroke=\"#fa8072\" stroke-width=\"2\"/>\n",
       "\t\t\t\n",
       "\n",
       "\t\t\t<polygon fill=\"#fa8072\" points=\"613.7072,-285.5116 624,-283 614.3875,-278.5447 613.7072,-285.5116\" stroke=\"#fa8072\" stroke-width=\"2\"/>\n",
       "\t\t\t\n",
       "\n",
       "\t\t</g>\n",
       "\t\t\n",
       "\n",
       "\t\t<!-- ugen_14&#45;&gt;ugen_15 -->\n",
       "\t\t\n",
       "\n",
       "\t\t<g class=\"edge\" id=\"edge12\">\n",
       "\t\t\t\n",
       "\n",
       "\t\t\t<title>ugen_14:e-&gt;ugen_15:w</title>\n",
       "\t\t\t\n",
       "\n",
       "\t\t\t<path d=\"M714,-259C752.0141,-259 754.5736,-221.7227 786.217,-215.0244\" fill=\"none\" stroke=\"#daa520\" stroke-width=\"2\"/>\n",
       "\t\t\t\n",
       "\n",
       "\t\t\t<polygon fill=\"#daa520\" points=\"786.8963,-218.4742 796.5,-214 786.2023,-211.5087 786.8963,-218.4742\" stroke=\"#daa520\" stroke-width=\"2\"/>\n",
       "\t\t\t\n",
       "\n",
       "\t\t</g>\n",
       "\t\t\n",
       "\n",
       "\t\t<!-- ugen_15&#45;&gt;ugen_16 -->\n",
       "\t\t\n",
       "\n",
       "\t\t<g class=\"edge\" id=\"edge13\">\n",
       "\t\t\t\n",
       "\n",
       "\t\t\t<title>ugen_15:e-&gt;ugen_16:w</title>\n",
       "\t\t\t\n",
       "\n",
       "\t\t\t<path d=\"M874.5,-225C924.1182,-225 904.0615,-302.7887 943.8817,-313.7277\" fill=\"none\" stroke=\"#4682b4\" stroke-width=\"2\"/>\n",
       "\t\t\t\n",
       "\n",
       "\t\t\t<polygon fill=\"#4682b4\" points=\"943.6414,-317.225 954,-315 944.5148,-310.2797 943.6414,-317.225\" stroke=\"#4682b4\" stroke-width=\"2\"/>\n",
       "\t\t\t\n",
       "\n",
       "\t\t</g>\n",
       "\t\t\n",
       "\n",
       "\t\t<!-- ugen_16&#45;&gt;ugen_17 -->\n",
       "\t\t\n",
       "\n",
       "\t\t<g class=\"edge\" id=\"edge14\">\n",
       "\t\t\t\n",
       "\n",
       "\t\t\t<title>ugen_16:e-&gt;ugen_17:w</title>\n",
       "\t\t\t\n",
       "\n",
       "\t\t\t<path d=\"M1050,-304C1078.375,-304 1087.8795,-304 1111.9792,-304\" fill=\"none\" stroke=\"#4682b4\" stroke-width=\"2\"/>\n",
       "\t\t\t\n",
       "\n",
       "\t\t\t<polygon fill=\"#4682b4\" points=\"1112,-307.5001 1122,-304 1112,-300.5001 1112,-307.5001\" stroke=\"#4682b4\" stroke-width=\"2\"/>\n",
       "\t\t\t\n",
       "\n",
       "\t\t</g>\n",
       "\t\t\n",
       "\n",
       "\t\t<!-- ugen_17&#45;&gt;ugen_18 -->\n",
       "\t\t\n",
       "\n",
       "\t\t<g class=\"edge\" id=\"edge15\">\n",
       "\t\t\t\n",
       "\n",
       "\t\t\t<title>ugen_17:e-&gt;ugen_18:w</title>\n",
       "\t\t\t\n",
       "\n",
       "\t\t\t<path d=\"M1218,-293C1269.6965,-293 1239.398,-204.4687 1279.8843,-192.3648\" fill=\"none\" stroke=\"#4682b4\" stroke-width=\"2\"/>\n",
       "\t\t\t\n",
       "\n",
       "\t\t\t<polygon fill=\"#4682b4\" points=\"1280.5578,-195.8057 1290,-191 1279.6218,-188.8686 1280.5578,-195.8057\" stroke=\"#4682b4\" stroke-width=\"2\"/>\n",
       "\t\t\t\n",
       "\n",
       "\t\t</g>\n",
       "\t\t\n",
       "\n",
       "\t\t<!-- ugen_18&#45;&gt;ugen_19 -->\n",
       "\t\t\n",
       "\n",
       "\t\t<g class=\"edge\" id=\"edge16\">\n",
       "\t\t\t\n",
       "\n",
       "\t\t\t<title>ugen_18:e-&gt;ugen_19:w</title>\n",
       "\t\t\t\n",
       "\n",
       "\t\t\t<path d=\"M1360,-182C1388.375,-182 1397.8795,-182 1421.9792,-182\" fill=\"none\" stroke=\"#4682b4\" stroke-width=\"2\"/>\n",
       "\t\t\t\n",
       "\n",
       "\t\t\t<polygon fill=\"#4682b4\" points=\"1422,-185.5001 1432,-182 1422,-178.5001 1422,-185.5001\" stroke=\"#4682b4\" stroke-width=\"2\"/>\n",
       "\t\t\t\n",
       "\n",
       "\t\t</g>\n",
       "\t\t\n",
       "\n",
       "\t\t<!-- ugen_18&#45;&gt;ugen_19 -->\n",
       "\t\t\n",
       "\n",
       "\t\t<g class=\"edge\" id=\"edge17\">\n",
       "\t\t\t\n",
       "\n",
       "\t\t\t<title>ugen_18:e-&gt;ugen_19:w</title>\n",
       "\t\t\t\n",
       "\n",
       "\t\t\t<path d=\"M1360,-144C1389.1552,-144 1397.3645,-157.3666 1421.7741,-160.395\" fill=\"none\" stroke=\"#4682b4\" stroke-width=\"2\"/>\n",
       "\t\t\t\n",
       "\n",
       "\t\t\t<polygon fill=\"#4682b4\" points=\"1421.8107,-163.9032 1432,-161 1422.2242,-156.9154 1421.8107,-163.9032\" stroke=\"#4682b4\" stroke-width=\"2\"/>\n",
       "\t\t\t\n",
       "\n",
       "\t\t</g>\n",
       "\t\t\n",
       "\n",
       "\t\t<!-- ugen_2&#45;&gt;ugen_10 -->\n",
       "\t\t\n",
       "\n",
       "\t\t<g class=\"edge\" id=\"edge18\">\n",
       "\t\t\t\n",
       "\n",
       "\t\t\t<title>ugen_2:e-&gt;ugen_10:w</title>\n",
       "\t\t\t\n",
       "\n",
       "\t\t\t<path d=\"M393,-357C487.6005,-357 375.6866,-163.2239 454.9599,-148.8421\" fill=\"none\" stroke=\"#4682b4\" stroke-width=\"2\"/>\n",
       "\t\t\t\n",
       "\n",
       "\t\t\t<polygon fill=\"#4682b4\" points=\"455.3275,-152.3236 465,-148 454.7424,-145.3481 455.3275,-152.3236\" stroke=\"#4682b4\" stroke-width=\"2\"/>\n",
       "\t\t\t\n",
       "\n",
       "\t\t</g>\n",
       "\t\t\n",
       "\n",
       "\t\t<!-- ugen_3&#45;&gt;ugen_16 -->\n",
       "\t\t\n",
       "\n",
       "\t\t<g class=\"edge\" id=\"edge19\">\n",
       "\t\t\t\n",
       "\n",
       "\t\t\t<title>ugen_3:e-&gt;ugen_16:w</title>\n",
       "\t\t\t\n",
       "\n",
       "\t\t\t<path d=\"M882,-378C927.3294,-378 908.4841,-306.6123 943.7862,-295.458\" fill=\"none\" stroke=\"#daa520\" stroke-width=\"2\"/>\n",
       "\t\t\t\n",
       "\n",
       "\t\t\t<polygon fill=\"#daa520\" points=\"944.595,-298.8781 954,-294 943.6057,-291.9483 944.595,-298.8781\" stroke=\"#daa520\" stroke-width=\"2\"/>\n",
       "\t\t\t\n",
       "\n",
       "\t\t</g>\n",
       "\t\t\n",
       "\n",
       "\t\t<!-- ugen_4&#45;&gt;ugen_5 -->\n",
       "\t\t\n",
       "\n",
       "\t\t<g class=\"edge\" id=\"edge20\">\n",
       "\t\t\t\n",
       "\n",
       "\t\t\t<title>ugen_4:e-&gt;ugen_5:w</title>\n",
       "\t\t\t\n",
       "\n",
       "\t\t\t<path d=\"M80,-255C108.375,-255 117.8795,-255 141.9792,-255\" fill=\"none\" stroke=\"#fa8072\" stroke-width=\"2\"/>\n",
       "\t\t\t\n",
       "\n",
       "\t\t\t<polygon fill=\"#fa8072\" points=\"142,-258.5001 152,-255 142,-251.5001 142,-258.5001\" stroke=\"#fa8072\" stroke-width=\"2\"/>\n",
       "\t\t\t\n",
       "\n",
       "\t\t</g>\n",
       "\t\t\n",
       "\n",
       "\t\t<!-- ugen_5&#45;&gt;ugen_6 -->\n",
       "\t\t\n",
       "\n",
       "\t\t<g class=\"edge\" id=\"edge21\">\n",
       "\t\t\t\n",
       "\n",
       "\t\t\t<title>ugen_5:e-&gt;ugen_6:w</title>\n",
       "\t\t\t\n",
       "\n",
       "\t\t\t<path d=\"M230,-265C259.0672,-265 267.4226,-252.4197 291.7972,-249.5694\" fill=\"none\" stroke=\"#daa520\" stroke-width=\"2\"/>\n",
       "\t\t\t\n",
       "\n",
       "\t\t\t<polygon fill=\"#daa520\" points=\"292.2106,-253.0519 302,-249 291.8205,-246.0628 292.2106,-253.0519\" stroke=\"#daa520\" stroke-width=\"2\"/>\n",
       "\t\t\t\n",
       "\n",
       "\t\t</g>\n",
       "\t\t\n",
       "\n",
       "\t\t<!-- ugen_6&#45;&gt;ugen_10 -->\n",
       "\t\t\n",
       "\n",
       "\t\t<g class=\"edge\" id=\"edge22\">\n",
       "\t\t\t\n",
       "\n",
       "\t\t\t<title>ugen_6:e-&gt;ugen_10:w</title>\n",
       "\t\t\t\n",
       "\n",
       "\t\t\t<path d=\"M393,-215C439.7834,-215 418.3423,-139.5778 454.9987,-128.3823\" fill=\"none\" stroke=\"#4682b4\" stroke-width=\"2\"/>\n",
       "\t\t\t\n",
       "\n",
       "\t\t\t<polygon fill=\"#4682b4\" points=\"455.5734,-131.8362 465,-127 454.615,-124.9021 455.5734,-131.8362\" stroke=\"#4682b4\" stroke-width=\"2\"/>\n",
       "\t\t\t\n",
       "\n",
       "\t\t</g>\n",
       "\t\t\n",
       "\n",
       "\t\t<!-- ugen_7&#45;&gt;ugen_8 -->\n",
       "\t\t\n",
       "\n",
       "\t\t<g class=\"edge\" id=\"edge23\">\n",
       "\t\t\t\n",
       "\n",
       "\t\t\t<title>ugen_7:e-&gt;ugen_8:w</title>\n",
       "\t\t\t\n",
       "\n",
       "\t\t\t<path d=\"M80,-115C108.375,-115 117.8795,-115 141.9792,-115\" fill=\"none\" stroke=\"#fa8072\" stroke-width=\"2\"/>\n",
       "\t\t\t\n",
       "\n",
       "\t\t\t<polygon fill=\"#fa8072\" points=\"142,-118.5001 152,-115 142,-111.5001 142,-118.5001\" stroke=\"#fa8072\" stroke-width=\"2\"/>\n",
       "\t\t\t\n",
       "\n",
       "\t\t</g>\n",
       "\t\t\n",
       "\n",
       "\t\t<!-- ugen_8&#45;&gt;ugen_9 -->\n",
       "\t\t\n",
       "\n",
       "\t\t<g class=\"edge\" id=\"edge24\">\n",
       "\t\t\t\n",
       "\n",
       "\t\t\t<title>ugen_8:e-&gt;ugen_9:w</title>\n",
       "\t\t\t\n",
       "\n",
       "\t\t\t<path d=\"M230,-125C259.2483,-125 267.303,-110.8471 291.7496,-107.6406\" fill=\"none\" stroke=\"#daa520\" stroke-width=\"2\"/>\n",
       "\t\t\t\n",
       "\n",
       "\t\t\t<polygon fill=\"#daa520\" points=\"292.2378,-111.117 302,-107 291.8011,-104.1307 292.2378,-111.117\" stroke=\"#daa520\" stroke-width=\"2\"/>\n",
       "\t\t\t\n",
       "\n",
       "\t\t</g>\n",
       "\t\t\n",
       "\n",
       "\t\t<!-- ugen_9&#45;&gt;ugen_10 -->\n",
       "\t\t\n",
       "\n",
       "\t\t<g class=\"edge\" id=\"edge25\">\n",
       "\t\t\t\n",
       "\n",
       "\t\t\t<title>ugen_9:e-&gt;ugen_10:w</title>\n",
       "\t\t\t\n",
       "\n",
       "\t\t\t<path d=\"M393,-73C424.4884,-73 429.0881,-99.4061 454.9047,-104.9762\" fill=\"none\" stroke=\"#4682b4\" stroke-width=\"2\"/>\n",
       "\t\t\t\n",
       "\n",
       "\t\t\t<polygon fill=\"#4682b4\" points=\"454.6979,-108.4731 465,-106 455.4042,-101.5088 454.6979,-108.4731\" stroke=\"#4682b4\" stroke-width=\"2\"/>\n",
       "\t\t\t\n",
       "\n",
       "\t\t</g>\n",
       "\t\t\n",
       "\n",
       "\t\t<!-- ugen_0 -->\n",
       "\t\t\n",
       "\n",
       "\t\t<g class=\"node\" id=\"node1\">\n",
       "\t\t\t\n",
       "\n",
       "\t\t\t<title>ugen_0</title>\n",
       "\t\t\t\n",
       "\n",
       "\t\t\t<path d=\"M1310,-254C1310,-254 1340,-254 1340,-254 1346,-254 1352,-260 1352,-266 1352,-266 1352,-310 1352,-310 1352,-316 1346,-322 1340,-322 1340,-322 1310,-322 1310,-322 1304,-322 1298,-316 1298,-310 1298,-310 1298,-266 1298,-266 1298,-260 1304,-254 1310,-254\" fill=\"#ee9572\" stroke=\"#000000\" stroke-width=\"2\"/>\n",
       "\t\t\t\n",
       "\n",
       "\t\t\t<text fill=\"#000000\" font-family=\"Arial\" font-size=\"12.00\" text-anchor=\"middle\" x=\"1325\" y=\"-308.4\">Control</text>\n",
       "\t\t\t\n",
       "\n",
       "\t\t\t<text fill=\"#000000\" font-family=\"Arial\" font-size=\"12.00\" text-anchor=\"middle\" x=\"1325\" y=\"-295.4\">(scalar)</text>\n",
       "\t\t\t\n",
       "\n",
       "\t\t\t<polyline fill=\"none\" points=\"1298,-288 1352,-288 \" stroke=\"#000000\" stroke-width=\"2\"/>\n",
       "\t\t\t\n",
       "\n",
       "\t\t\t<text fill=\"#000000\" font-family=\"Arial\" font-size=\"12.00\" text-anchor=\"middle\" x=\"1325\" y=\"-274.4\">out:</text>\n",
       "\t\t\t\n",
       "\n",
       "\t\t\t<text fill=\"#000000\" font-family=\"Arial\" font-size=\"12.00\" text-anchor=\"middle\" x=\"1325\" y=\"-261.4\">0.0</text>\n",
       "\t\t\t\n",
       "\n",
       "\t\t</g>\n",
       "\t\t\n",
       "\n",
       "\t\t<!-- ugen_1 -->\n",
       "\t\t\n",
       "\n",
       "\t\t<g class=\"node\" id=\"node2\">\n",
       "\t\t\t\n",
       "\n",
       "\t\t\t<title>ugen_1</title>\n",
       "\t\t\t\n",
       "\n",
       "\t\t\t<path d=\"M22.5,-359C22.5,-359 57.5,-359 57.5,-359 63.5,-359 69.5,-365 69.5,-371 69.5,-371 69.5,-517 69.5,-517 69.5,-523 63.5,-529 57.5,-529 57.5,-529 22.5,-529 22.5,-529 16.5,-529 10.5,-523 10.5,-517 10.5,-517 10.5,-371 10.5,-371 10.5,-365 16.5,-359 22.5,-359\" fill=\"#eedc82\" stroke=\"#000000\" stroke-width=\"2\"/>\n",
       "\t\t\t\n",
       "\n",
       "\t\t\t<text fill=\"#000000\" font-family=\"Arial\" font-size=\"12.00\" text-anchor=\"middle\" x=\"40\" y=\"-515.4\">Control</text>\n",
       "\t\t\t\n",
       "\n",
       "\t\t\t<text fill=\"#000000\" font-family=\"Arial\" font-size=\"12.00\" text-anchor=\"middle\" x=\"40\" y=\"-502.4\">(control)</text>\n",
       "\t\t\t\n",
       "\n",
       "\t\t\t<polyline fill=\"none\" points=\"10.5,-495 69.5,-495 \" stroke=\"#000000\" stroke-width=\"2\"/>\n",
       "\t\t\t\n",
       "\n",
       "\t\t\t<text fill=\"#000000\" font-family=\"Arial\" font-size=\"12.00\" text-anchor=\"middle\" x=\"40\" y=\"-481.4\">amplitude:</text>\n",
       "\t\t\t\n",
       "\n",
       "\t\t\t<text fill=\"#000000\" font-family=\"Arial\" font-size=\"12.00\" text-anchor=\"middle\" x=\"40\" y=\"-468.4\">0.1</text>\n",
       "\t\t\t\n",
       "\n",
       "\t\t\t<polyline fill=\"none\" points=\"10.5,-461 69.5,-461 \" stroke=\"#000000\" stroke-width=\"2\"/>\n",
       "\t\t\t\n",
       "\n",
       "\t\t\t<text fill=\"#000000\" font-family=\"Arial\" font-size=\"12.00\" text-anchor=\"middle\" x=\"40\" y=\"-447.4\">frequency:</text>\n",
       "\t\t\t\n",
       "\n",
       "\t\t\t<text fill=\"#000000\" font-family=\"Arial\" font-size=\"12.00\" text-anchor=\"middle\" x=\"40\" y=\"-434.4\">440.0</text>\n",
       "\t\t\t\n",
       "\n",
       "\t\t\t<polyline fill=\"none\" points=\"10.5,-427 69.5,-427 \" stroke=\"#000000\" stroke-width=\"2\"/>\n",
       "\t\t\t\n",
       "\n",
       "\t\t\t<text fill=\"#000000\" font-family=\"Arial\" font-size=\"12.00\" text-anchor=\"middle\" x=\"40\" y=\"-413.4\">gate:</text>\n",
       "\t\t\t\n",
       "\n",
       "\t\t\t<text fill=\"#000000\" font-family=\"Arial\" font-size=\"12.00\" text-anchor=\"middle\" x=\"40\" y=\"-400.4\">1.0</text>\n",
       "\t\t\t\n",
       "\n",
       "\t\t\t<polyline fill=\"none\" points=\"10.5,-393 69.5,-393 \" stroke=\"#000000\" stroke-width=\"2\"/>\n",
       "\t\t\t\n",
       "\n",
       "\t\t\t<text fill=\"#000000\" font-family=\"Arial\" font-size=\"12.00\" text-anchor=\"middle\" x=\"40\" y=\"-379.4\">pan:</text>\n",
       "\t\t\t\n",
       "\n",
       "\t\t\t<text fill=\"#000000\" font-family=\"Arial\" font-size=\"12.00\" text-anchor=\"middle\" x=\"40\" y=\"-366.4\">0.5</text>\n",
       "\t\t\t\n",
       "\n",
       "\t\t</g>\n",
       "\t\t\n",
       "\n",
       "\t\t<!-- ugen_10 -->\n",
       "\t\t\n",
       "\n",
       "\t\t<g class=\"node\" id=\"node3\">\n",
       "\t\t\t\n",
       "\n",
       "\t\t\t<title>ugen_10</title>\n",
       "\t\t\t\n",
       "\n",
       "\t\t\t<path d=\"M477,-95.5C477,-95.5 537,-95.5 537,-95.5 543,-95.5 549,-101.5 549,-107.5 549,-107.5 549,-180.5 549,-180.5 549,-186.5 543,-192.5 537,-192.5 537,-192.5 477,-192.5 477,-192.5 471,-192.5 465,-186.5 465,-180.5 465,-180.5 465,-107.5 465,-107.5 465,-101.5 471,-95.5 477,-95.5\" fill=\"#bcd2ee\" stroke=\"#000000\" stroke-width=\"2\"/>\n",
       "\t\t\t\n",
       "\n",
       "\t\t\t<text fill=\"#000000\" font-family=\"Arial\" font-size=\"12.00\" text-anchor=\"middle\" x=\"507\" y=\"-178.9\">Sum3</text>\n",
       "\t\t\t\n",
       "\n",
       "\t\t\t<text fill=\"#000000\" font-family=\"Arial\" font-size=\"12.00\" text-anchor=\"middle\" x=\"507\" y=\"-165.9\">(audio)</text>\n",
       "\t\t\t\n",
       "\n",
       "\t\t\t<polyline fill=\"none\" points=\"465,-158.5 549,-158.5 \" stroke=\"#000000\" stroke-width=\"2\"/>\n",
       "\t\t\t\n",
       "\n",
       "\t\t\t<text fill=\"#000000\" font-family=\"Arial\" font-size=\"12.00\" text-anchor=\"middle\" x=\"496\" y=\"-144.9\">input_one</text>\n",
       "\t\t\t\n",
       "\n",
       "\t\t\t<polyline fill=\"none\" points=\"465,-137.5 527,-137.5 \" stroke=\"#000000\" stroke-width=\"2\"/>\n",
       "\t\t\t\n",
       "\n",
       "\t\t\t<text fill=\"#000000\" font-family=\"Arial\" font-size=\"12.00\" text-anchor=\"middle\" x=\"496\" y=\"-123.9\">input_two</text>\n",
       "\t\t\t\n",
       "\n",
       "\t\t\t<polyline fill=\"none\" points=\"465,-116.5 527,-116.5 \" stroke=\"#000000\" stroke-width=\"2\"/>\n",
       "\t\t\t\n",
       "\n",
       "\t\t\t<text fill=\"#000000\" font-family=\"Arial\" font-size=\"12.00\" text-anchor=\"middle\" x=\"496\" y=\"-102.9\">input_three</text>\n",
       "\t\t\t\n",
       "\n",
       "\t\t\t<polyline fill=\"none\" points=\"527,-95.5 527,-158.5 \" stroke=\"#000000\" stroke-width=\"2\"/>\n",
       "\t\t\t\n",
       "\n",
       "\t\t\t<text fill=\"#000000\" font-family=\"Arial\" font-size=\"12.00\" text-anchor=\"middle\" x=\"538\" y=\"-123.9\">0</text>\n",
       "\t\t\t\n",
       "\n",
       "\t\t</g>\n",
       "\t\t\n",
       "\n",
       "\t\t<!-- ugen_11 -->\n",
       "\t\t\n",
       "\n",
       "\t\t<g class=\"node\" id=\"node4\">\n",
       "\t\t\t\n",
       "\n",
       "\t\t\t<title>ugen_11</title>\n",
       "\t\t\t\n",
       "\n",
       "\t\t\t<path d=\"M633,-83C633,-83 705,-83 705,-83 711,-83 717,-89 717,-95 717,-95 717,-173 717,-173 717,-179 711,-185 705,-185 705,-185 633,-185 633,-185 627,-185 621,-179 621,-173 621,-173 621,-95 621,-95 621,-89 627,-83 633,-83\" fill=\"#bcd2ee\" stroke=\"#000000\" stroke-width=\"2\"/>\n",
       "\t\t\t\n",
       "\n",
       "\t\t\t<text fill=\"#000000\" font-family=\"Arial\" font-size=\"12.00\" text-anchor=\"middle\" x=\"669\" y=\"-171.4\">BinaryOpUGen</text>\n",
       "\t\t\t\n",
       "\n",
       "\t\t\t<text fill=\"#000000\" font-family=\"Arial\" font-size=\"12.00\" text-anchor=\"middle\" x=\"669\" y=\"-158.4\">[MULTIPLICATION]</text>\n",
       "\t\t\t\n",
       "\n",
       "\t\t\t<text fill=\"#000000\" font-family=\"Arial\" font-size=\"12.00\" text-anchor=\"middle\" x=\"669\" y=\"-145.4\">(audio)</text>\n",
       "\t\t\t\n",
       "\n",
       "\t\t\t<polyline fill=\"none\" points=\"621,-138 717,-138 \" stroke=\"#000000\" stroke-width=\"2\"/>\n",
       "\t\t\t\n",
       "\n",
       "\t\t\t<text fill=\"#000000\" font-family=\"Arial\" font-size=\"12.00\" text-anchor=\"middle\" x=\"648.5\" y=\"-124.4\">left</text>\n",
       "\t\t\t\n",
       "\n",
       "\t\t\t<polyline fill=\"none\" points=\"621,-117 676,-117 \" stroke=\"#000000\" stroke-width=\"2\"/>\n",
       "\t\t\t\n",
       "\n",
       "\t\t\t<text fill=\"#000000\" font-family=\"Arial\" font-size=\"12.00\" text-anchor=\"middle\" x=\"648.5\" y=\"-103.4\">right:</text>\n",
       "\t\t\t\n",
       "\n",
       "\t\t\t<text fill=\"#000000\" font-family=\"Arial\" font-size=\"12.00\" text-anchor=\"middle\" x=\"648.5\" y=\"-90.4\">0.3</text>\n",
       "\t\t\t\n",
       "\n",
       "\t\t\t<polyline fill=\"none\" points=\"676,-83 676,-138 \" stroke=\"#000000\" stroke-width=\"2\"/>\n",
       "\t\t\t\n",
       "\n",
       "\t\t\t<text fill=\"#000000\" font-family=\"Arial\" font-size=\"12.00\" text-anchor=\"middle\" x=\"696.5\" y=\"-107.4\">0</text>\n",
       "\t\t\t\n",
       "\n",
       "\t\t</g>\n",
       "\t\t\n",
       "\n",
       "\t\t<!-- ugen_12 -->\n",
       "\t\t\n",
       "\n",
       "\t\t<g class=\"node\" id=\"node5\">\n",
       "\t\t\t\n",
       "\n",
       "\t\t\t<title>ugen_12</title>\n",
       "\t\t\t\n",
       "\n",
       "\t\t\t<path d=\"M479,-333C479,-333 535,-333 535,-333 541,-333 547,-339 547,-345 547,-345 547,-423 547,-423 547,-429 541,-435 535,-435 535,-435 479,-435 479,-435 473,-435 467,-429 467,-423 467,-423 467,-345 467,-345 467,-339 473,-333 479,-333\" fill=\"#ee9572\" stroke=\"#000000\" stroke-width=\"2\"/>\n",
       "\t\t\t\n",
       "\n",
       "\t\t\t<text fill=\"#000000\" font-family=\"Arial\" font-size=\"12.00\" text-anchor=\"middle\" x=\"507\" y=\"-421.4\">Rand</text>\n",
       "\t\t\t\n",
       "\n",
       "\t\t\t<text fill=\"#000000\" font-family=\"Arial\" font-size=\"12.00\" text-anchor=\"middle\" x=\"507\" y=\"-408.4\">(scalar)</text>\n",
       "\t\t\t\n",
       "\n",
       "\t\t\t<polyline fill=\"none\" points=\"467,-401 547,-401 \" stroke=\"#000000\" stroke-width=\"2\"/>\n",
       "\t\t\t\n",
       "\n",
       "\t\t\t<text fill=\"#000000\" font-family=\"Arial\" font-size=\"12.00\" text-anchor=\"middle\" x=\"496\" y=\"-387.4\">minimum:</text>\n",
       "\t\t\t\n",
       "\n",
       "\t\t\t<text fill=\"#000000\" font-family=\"Arial\" font-size=\"12.00\" text-anchor=\"middle\" x=\"496\" y=\"-374.4\">4000.0</text>\n",
       "\t\t\t\n",
       "\n",
       "\t\t\t<polyline fill=\"none\" points=\"467,-367 525,-367 \" stroke=\"#000000\" stroke-width=\"2\"/>\n",
       "\t\t\t\n",
       "\n",
       "\t\t\t<text fill=\"#000000\" font-family=\"Arial\" font-size=\"12.00\" text-anchor=\"middle\" x=\"496\" y=\"-353.4\">maximum:</text>\n",
       "\t\t\t\n",
       "\n",
       "\t\t\t<text fill=\"#000000\" font-family=\"Arial\" font-size=\"12.00\" text-anchor=\"middle\" x=\"496\" y=\"-340.4\">5000.0</text>\n",
       "\t\t\t\n",
       "\n",
       "\t\t\t<polyline fill=\"none\" points=\"525,-333 525,-401 \" stroke=\"#000000\" stroke-width=\"2\"/>\n",
       "\t\t\t\n",
       "\n",
       "\t\t\t<text fill=\"#000000\" font-family=\"Arial\" font-size=\"12.00\" text-anchor=\"middle\" x=\"536\" y=\"-363.9\">0</text>\n",
       "\t\t\t\n",
       "\n",
       "\t\t</g>\n",
       "\t\t\n",
       "\n",
       "\t\t<!-- ugen_13 -->\n",
       "\t\t\n",
       "\n",
       "\t\t<g class=\"node\" id=\"node6\">\n",
       "\t\t\t\n",
       "\n",
       "\t\t\t<title>ugen_13</title>\n",
       "\t\t\t\n",
       "\n",
       "\t\t\t<path d=\"M479,-212C479,-212 535,-212 535,-212 541,-212 547,-218 547,-224 547,-224 547,-302 547,-302 547,-308 541,-314 535,-314 535,-314 479,-314 479,-314 473,-314 467,-308 467,-302 467,-302 467,-224 467,-224 467,-218 473,-212 479,-212\" fill=\"#ee9572\" stroke=\"#000000\" stroke-width=\"2\"/>\n",
       "\t\t\t\n",
       "\n",
       "\t\t\t<text fill=\"#000000\" font-family=\"Arial\" font-size=\"12.00\" text-anchor=\"middle\" x=\"507\" y=\"-300.4\">Rand</text>\n",
       "\t\t\t\n",
       "\n",
       "\t\t\t<text fill=\"#000000\" font-family=\"Arial\" font-size=\"12.00\" text-anchor=\"middle\" x=\"507\" y=\"-287.4\">(scalar)</text>\n",
       "\t\t\t\n",
       "\n",
       "\t\t\t<polyline fill=\"none\" points=\"467,-280 547,-280 \" stroke=\"#000000\" stroke-width=\"2\"/>\n",
       "\t\t\t\n",
       "\n",
       "\t\t\t<text fill=\"#000000\" font-family=\"Arial\" font-size=\"12.00\" text-anchor=\"middle\" x=\"496\" y=\"-266.4\">minimum:</text>\n",
       "\t\t\t\n",
       "\n",
       "\t\t\t<text fill=\"#000000\" font-family=\"Arial\" font-size=\"12.00\" text-anchor=\"middle\" x=\"496\" y=\"-253.4\">2500.0</text>\n",
       "\t\t\t\n",
       "\n",
       "\t\t\t<polyline fill=\"none\" points=\"467,-246 525,-246 \" stroke=\"#000000\" stroke-width=\"2\"/>\n",
       "\t\t\t\n",
       "\n",
       "\t\t\t<text fill=\"#000000\" font-family=\"Arial\" font-size=\"12.00\" text-anchor=\"middle\" x=\"496\" y=\"-232.4\">maximum:</text>\n",
       "\t\t\t\n",
       "\n",
       "\t\t\t<text fill=\"#000000\" font-family=\"Arial\" font-size=\"12.00\" text-anchor=\"middle\" x=\"496\" y=\"-219.4\">3200.0</text>\n",
       "\t\t\t\n",
       "\n",
       "\t\t\t<polyline fill=\"none\" points=\"525,-212 525,-280 \" stroke=\"#000000\" stroke-width=\"2\"/>\n",
       "\t\t\t\n",
       "\n",
       "\t\t\t<text fill=\"#000000\" font-family=\"Arial\" font-size=\"12.00\" text-anchor=\"middle\" x=\"536\" y=\"-242.9\">0</text>\n",
       "\t\t\t\n",
       "\n",
       "\t\t</g>\n",
       "\t\t\n",
       "\n",
       "\t\t<!-- ugen_14 -->\n",
       "\t\t\n",
       "\n",
       "\t\t<g class=\"node\" id=\"node7\">\n",
       "\t\t\t\n",
       "\n",
       "\t\t\t<title>ugen_14</title>\n",
       "\t\t\t\n",
       "\n",
       "\t\t\t<path d=\"M636,-204C636,-204 702,-204 702,-204 708,-204 714,-210 714,-216 714,-216 714,-336 714,-336 714,-342 708,-348 702,-348 702,-348 636,-348 636,-348 630,-348 624,-342 624,-336 624,-336 624,-216 624,-216 624,-210 630,-204 636,-204\" fill=\"#eedc82\" stroke=\"#000000\" stroke-width=\"2\"/>\n",
       "\t\t\t\n",
       "\n",
       "\t\t\t<text fill=\"#000000\" font-family=\"Arial\" font-size=\"12.00\" text-anchor=\"middle\" x=\"669\" y=\"-334.4\">XLine</text>\n",
       "\t\t\t\n",
       "\n",
       "\t\t\t<text fill=\"#000000\" font-family=\"Arial\" font-size=\"12.00\" text-anchor=\"middle\" x=\"669\" y=\"-321.4\">(control)</text>\n",
       "\t\t\t\n",
       "\n",
       "\t\t\t<polyline fill=\"none\" points=\"624,-314 714,-314 \" stroke=\"#000000\" stroke-width=\"2\"/>\n",
       "\t\t\t\n",
       "\n",
       "\t\t\t<text fill=\"#000000\" font-family=\"Arial\" font-size=\"12.00\" text-anchor=\"middle\" x=\"658\" y=\"-300.4\">start</text>\n",
       "\t\t\t\n",
       "\n",
       "\t\t\t<polyline fill=\"none\" points=\"624,-293 692,-293 \" stroke=\"#000000\" stroke-width=\"2\"/>\n",
       "\t\t\t\n",
       "\n",
       "\t\t\t<text fill=\"#000000\" font-family=\"Arial\" font-size=\"12.00\" text-anchor=\"middle\" x=\"658\" y=\"-279.4\">stop</text>\n",
       "\t\t\t\n",
       "\n",
       "\t\t\t<polyline fill=\"none\" points=\"624,-272 692,-272 \" stroke=\"#000000\" stroke-width=\"2\"/>\n",
       "\t\t\t\n",
       "\n",
       "\t\t\t<text fill=\"#000000\" font-family=\"Arial\" font-size=\"12.00\" text-anchor=\"middle\" x=\"658\" y=\"-258.4\">duration:</text>\n",
       "\t\t\t\n",
       "\n",
       "\t\t\t<text fill=\"#000000\" font-family=\"Arial\" font-size=\"12.00\" text-anchor=\"middle\" x=\"658\" y=\"-245.4\">1.0</text>\n",
       "\t\t\t\n",
       "\n",
       "\t\t\t<polyline fill=\"none\" points=\"624,-238 692,-238 \" stroke=\"#000000\" stroke-width=\"2\"/>\n",
       "\t\t\t\n",
       "\n",
       "\t\t\t<text fill=\"#000000\" font-family=\"Arial\" font-size=\"12.00\" text-anchor=\"middle\" x=\"658\" y=\"-224.4\">done_action:</text>\n",
       "\t\t\t\n",
       "\n",
       "\t\t\t<text fill=\"#000000\" font-family=\"Arial\" font-size=\"12.00\" text-anchor=\"middle\" x=\"658\" y=\"-211.4\">0.0</text>\n",
       "\t\t\t\n",
       "\n",
       "\t\t\t<polyline fill=\"none\" points=\"692,-204 692,-314 \" stroke=\"#000000\" stroke-width=\"2\"/>\n",
       "\t\t\t\n",
       "\n",
       "\t\t\t<text fill=\"#000000\" font-family=\"Arial\" font-size=\"12.00\" text-anchor=\"middle\" x=\"703\" y=\"-255.9\">0</text>\n",
       "\t\t\t\n",
       "\n",
       "\t\t</g>\n",
       "\t\t\n",
       "\n",
       "\t\t<!-- ugen_15 -->\n",
       "\t\t\n",
       "\n",
       "\t\t<g class=\"node\" id=\"node8\">\n",
       "\t\t\t\n",
       "\n",
       "\t\t\t<title>ugen_15</title>\n",
       "\t\t\t\n",
       "\n",
       "\t\t\t<path d=\"M808.5,-204C808.5,-204 862.5,-204 862.5,-204 868.5,-204 874.5,-210 874.5,-216 874.5,-216 874.5,-268 874.5,-268 874.5,-274 868.5,-280 862.5,-280 862.5,-280 808.5,-280 808.5,-280 802.5,-280 796.5,-274 796.5,-268 796.5,-268 796.5,-216 796.5,-216 796.5,-210 802.5,-204 808.5,-204\" fill=\"#bcd2ee\" stroke=\"#000000\" stroke-width=\"2\"/>\n",
       "\t\t\t\n",
       "\n",
       "\t\t\t<text fill=\"#000000\" font-family=\"Arial\" font-size=\"12.00\" text-anchor=\"middle\" x=\"835.5\" y=\"-266.4\">LPF</text>\n",
       "\t\t\t\n",
       "\n",
       "\t\t\t<text fill=\"#000000\" font-family=\"Arial\" font-size=\"12.00\" text-anchor=\"middle\" x=\"835.5\" y=\"-253.4\">(audio)</text>\n",
       "\t\t\t\n",
       "\n",
       "\t\t\t<polyline fill=\"none\" points=\"796.5,-246 874.5,-246 \" stroke=\"#000000\" stroke-width=\"2\"/>\n",
       "\t\t\t\n",
       "\n",
       "\t\t\t<text fill=\"#000000\" font-family=\"Arial\" font-size=\"12.00\" text-anchor=\"middle\" x=\"824.5\" y=\"-232.4\">source</text>\n",
       "\t\t\t\n",
       "\n",
       "\t\t\t<polyline fill=\"none\" points=\"796.5,-225 852.5,-225 \" stroke=\"#000000\" stroke-width=\"2\"/>\n",
       "\t\t\t\n",
       "\n",
       "\t\t\t<text fill=\"#000000\" font-family=\"Arial\" font-size=\"12.00\" text-anchor=\"middle\" x=\"824.5\" y=\"-211.4\">frequency</text>\n",
       "\t\t\t\n",
       "\n",
       "\t\t\t<polyline fill=\"none\" points=\"852.5,-204 852.5,-246 \" stroke=\"#000000\" stroke-width=\"2\"/>\n",
       "\t\t\t\n",
       "\n",
       "\t\t\t<text fill=\"#000000\" font-family=\"Arial\" font-size=\"12.00\" text-anchor=\"middle\" x=\"863.5\" y=\"-221.9\">0</text>\n",
       "\t\t\t\n",
       "\n",
       "\t\t</g>\n",
       "\t\t\n",
       "\n",
       "\t\t<!-- ugen_16 -->\n",
       "\t\t\n",
       "\n",
       "\t\t<g class=\"node\" id=\"node9\">\n",
       "\t\t\t\n",
       "\n",
       "\t\t\t<title>ugen_16</title>\n",
       "\t\t\t\n",
       "\n",
       "\t\t\t<path d=\"M966,-283.5C966,-283.5 1038,-283.5 1038,-283.5 1044,-283.5 1050,-289.5 1050,-295.5 1050,-295.5 1050,-360.5 1050,-360.5 1050,-366.5 1044,-372.5 1038,-372.5 1038,-372.5 966,-372.5 966,-372.5 960,-372.5 954,-366.5 954,-360.5 954,-360.5 954,-295.5 954,-295.5 954,-289.5 960,-283.5 966,-283.5\" fill=\"#bcd2ee\" stroke=\"#000000\" stroke-width=\"2\"/>\n",
       "\t\t\t\n",
       "\n",
       "\t\t\t<text fill=\"#000000\" font-family=\"Arial\" font-size=\"12.00\" text-anchor=\"middle\" x=\"1002\" y=\"-358.9\">BinaryOpUGen</text>\n",
       "\t\t\t\n",
       "\n",
       "\t\t\t<text fill=\"#000000\" font-family=\"Arial\" font-size=\"12.00\" text-anchor=\"middle\" x=\"1002\" y=\"-345.9\">[MULTIPLICATION]</text>\n",
       "\t\t\t\n",
       "\n",
       "\t\t\t<text fill=\"#000000\" font-family=\"Arial\" font-size=\"12.00\" text-anchor=\"middle\" x=\"1002\" y=\"-332.9\">(audio)</text>\n",
       "\t\t\t\n",
       "\n",
       "\t\t\t<polyline fill=\"none\" points=\"954,-325.5 1050,-325.5 \" stroke=\"#000000\" stroke-width=\"2\"/>\n",
       "\t\t\t\n",
       "\n",
       "\t\t\t<text fill=\"#000000\" font-family=\"Arial\" font-size=\"12.00\" text-anchor=\"middle\" x=\"981\" y=\"-311.9\">left</text>\n",
       "\t\t\t\n",
       "\n",
       "\t\t\t<polyline fill=\"none\" points=\"954,-304.5 1008,-304.5 \" stroke=\"#000000\" stroke-width=\"2\"/>\n",
       "\t\t\t\n",
       "\n",
       "\t\t\t<text fill=\"#000000\" font-family=\"Arial\" font-size=\"12.00\" text-anchor=\"middle\" x=\"981\" y=\"-290.9\">right</text>\n",
       "\t\t\t\n",
       "\n",
       "\t\t\t<polyline fill=\"none\" points=\"1008,-283.5 1008,-325.5 \" stroke=\"#000000\" stroke-width=\"2\"/>\n",
       "\t\t\t\n",
       "\n",
       "\t\t\t<text fill=\"#000000\" font-family=\"Arial\" font-size=\"12.00\" text-anchor=\"middle\" x=\"1029\" y=\"-301.4\">0</text>\n",
       "\t\t\t\n",
       "\n",
       "\t\t</g>\n",
       "\t\t\n",
       "\n",
       "\t\t<!-- ugen_17 -->\n",
       "\t\t\n",
       "\n",
       "\t\t<g class=\"node\" id=\"node10\">\n",
       "\t\t\t\n",
       "\n",
       "\t\t\t<title>ugen_17</title>\n",
       "\t\t\t\n",
       "\n",
       "\t\t\t<path d=\"M1134,-272.5C1134,-272.5 1206,-272.5 1206,-272.5 1212,-272.5 1218,-278.5 1218,-284.5 1218,-284.5 1218,-349.5 1218,-349.5 1218,-355.5 1212,-361.5 1206,-361.5 1206,-361.5 1134,-361.5 1134,-361.5 1128,-361.5 1122,-355.5 1122,-349.5 1122,-349.5 1122,-284.5 1122,-284.5 1122,-278.5 1128,-272.5 1134,-272.5\" fill=\"#bcd2ee\" stroke=\"#000000\" stroke-width=\"2\"/>\n",
       "\t\t\t\n",
       "\n",
       "\t\t\t<text fill=\"#000000\" font-family=\"Arial\" font-size=\"12.00\" text-anchor=\"middle\" x=\"1170\" y=\"-347.9\">BinaryOpUGen</text>\n",
       "\t\t\t\n",
       "\n",
       "\t\t\t<text fill=\"#000000\" font-family=\"Arial\" font-size=\"12.00\" text-anchor=\"middle\" x=\"1170\" y=\"-334.9\">[MULTIPLICATION]</text>\n",
       "\t\t\t\n",
       "\n",
       "\t\t\t<text fill=\"#000000\" font-family=\"Arial\" font-size=\"12.00\" text-anchor=\"middle\" x=\"1170\" y=\"-321.9\">(audio)</text>\n",
       "\t\t\t\n",
       "\n",
       "\t\t\t<polyline fill=\"none\" points=\"1122,-314.5 1218,-314.5 \" stroke=\"#000000\" stroke-width=\"2\"/>\n",
       "\t\t\t\n",
       "\n",
       "\t\t\t<text fill=\"#000000\" font-family=\"Arial\" font-size=\"12.00\" text-anchor=\"middle\" x=\"1149\" y=\"-300.9\">left</text>\n",
       "\t\t\t\n",
       "\n",
       "\t\t\t<polyline fill=\"none\" points=\"1122,-293.5 1176,-293.5 \" stroke=\"#000000\" stroke-width=\"2\"/>\n",
       "\t\t\t\n",
       "\n",
       "\t\t\t<text fill=\"#000000\" font-family=\"Arial\" font-size=\"12.00\" text-anchor=\"middle\" x=\"1149\" y=\"-279.9\">right</text>\n",
       "\t\t\t\n",
       "\n",
       "\t\t\t<polyline fill=\"none\" points=\"1176,-272.5 1176,-314.5 \" stroke=\"#000000\" stroke-width=\"2\"/>\n",
       "\t\t\t\n",
       "\n",
       "\t\t\t<text fill=\"#000000\" font-family=\"Arial\" font-size=\"12.00\" text-anchor=\"middle\" x=\"1197\" y=\"-290.4\">0</text>\n",
       "\t\t\t\n",
       "\n",
       "\t\t</g>\n",
       "\t\t\n",
       "\n",
       "\t\t<!-- ugen_18 -->\n",
       "\t\t\n",
       "\n",
       "\t\t<g class=\"node\" id=\"node11\">\n",
       "\t\t\t\n",
       "\n",
       "\t\t\t<title>ugen_18</title>\n",
       "\t\t\t\n",
       "\n",
       "\t\t\t<path d=\"M1302,-125C1302,-125 1348,-125 1348,-125 1354,-125 1360,-131 1360,-137 1360,-137 1360,-223 1360,-223 1360,-229 1354,-235 1348,-235 1348,-235 1302,-235 1302,-235 1296,-235 1290,-229 1290,-223 1290,-223 1290,-137 1290,-137 1290,-131 1296,-125 1302,-125\" fill=\"#bcd2ee\" stroke=\"#000000\" stroke-width=\"2\"/>\n",
       "\t\t\t\n",
       "\n",
       "\t\t\t<text fill=\"#000000\" font-family=\"Arial\" font-size=\"12.00\" text-anchor=\"middle\" x=\"1325\" y=\"-221.4\">Pan2</text>\n",
       "\t\t\t\n",
       "\n",
       "\t\t\t<text fill=\"#000000\" font-family=\"Arial\" font-size=\"12.00\" text-anchor=\"middle\" x=\"1325\" y=\"-208.4\">(audio)</text>\n",
       "\t\t\t\n",
       "\n",
       "\t\t\t<polyline fill=\"none\" points=\"1290,-201 1360,-201 \" stroke=\"#000000\" stroke-width=\"2\"/>\n",
       "\t\t\t\n",
       "\n",
       "\t\t\t<text fill=\"#000000\" font-family=\"Arial\" font-size=\"12.00\" text-anchor=\"middle\" x=\"1314\" y=\"-187.4\">source</text>\n",
       "\t\t\t\n",
       "\n",
       "\t\t\t<polyline fill=\"none\" points=\"1290,-180 1338,-180 \" stroke=\"#000000\" stroke-width=\"2\"/>\n",
       "\t\t\t\n",
       "\n",
       "\t\t\t<text fill=\"#000000\" font-family=\"Arial\" font-size=\"12.00\" text-anchor=\"middle\" x=\"1314\" y=\"-166.4\">position</text>\n",
       "\t\t\t\n",
       "\n",
       "\t\t\t<polyline fill=\"none\" points=\"1290,-159 1338,-159 \" stroke=\"#000000\" stroke-width=\"2\"/>\n",
       "\t\t\t\n",
       "\n",
       "\t\t\t<text fill=\"#000000\" font-family=\"Arial\" font-size=\"12.00\" text-anchor=\"middle\" x=\"1314\" y=\"-145.4\">level:</text>\n",
       "\t\t\t\n",
       "\n",
       "\t\t\t<text fill=\"#000000\" font-family=\"Arial\" font-size=\"12.00\" text-anchor=\"middle\" x=\"1314\" y=\"-132.4\">1.0</text>\n",
       "\t\t\t\n",
       "\n",
       "\t\t\t<polyline fill=\"none\" points=\"1338,-125 1338,-201 \" stroke=\"#000000\" stroke-width=\"2\"/>\n",
       "\t\t\t\n",
       "\n",
       "\t\t\t<text fill=\"#000000\" font-family=\"Arial\" font-size=\"12.00\" text-anchor=\"middle\" x=\"1349\" y=\"-178.9\">0</text>\n",
       "\t\t\t\n",
       "\n",
       "\t\t\t<polyline fill=\"none\" points=\"1338,-163 1360,-163 \" stroke=\"#000000\" stroke-width=\"2\"/>\n",
       "\t\t\t\n",
       "\n",
       "\t\t\t<text fill=\"#000000\" font-family=\"Arial\" font-size=\"12.00\" text-anchor=\"middle\" x=\"1349\" y=\"-140.9\">1</text>\n",
       "\t\t\t\n",
       "\n",
       "\t\t</g>\n",
       "\t\t\n",
       "\n",
       "\t\t<!-- ugen_19 -->\n",
       "\t\t\n",
       "\n",
       "\t\t<g class=\"node\" id=\"node12\">\n",
       "\t\t\t\n",
       "\n",
       "\t\t\t<title>ugen_19</title>\n",
       "\t\t\t\n",
       "\n",
       "\t\t\t<path d=\"M1444,-150.5C1444,-150.5 1475,-150.5 1475,-150.5 1481,-150.5 1487,-156.5 1487,-162.5 1487,-162.5 1487,-235.5 1487,-235.5 1487,-241.5 1481,-247.5 1475,-247.5 1475,-247.5 1444,-247.5 1444,-247.5 1438,-247.5 1432,-241.5 1432,-235.5 1432,-235.5 1432,-162.5 1432,-162.5 1432,-156.5 1438,-150.5 1444,-150.5\" fill=\"#bcd2ee\" stroke=\"#000000\" stroke-width=\"2\"/>\n",
       "\t\t\t\n",
       "\n",
       "\t\t\t<text fill=\"#000000\" font-family=\"Arial\" font-size=\"12.00\" text-anchor=\"middle\" x=\"1459.5\" y=\"-233.9\">OffsetOut</text>\n",
       "\t\t\t\n",
       "\n",
       "\t\t\t<text fill=\"#000000\" font-family=\"Arial\" font-size=\"12.00\" text-anchor=\"middle\" x=\"1459.5\" y=\"-220.9\">(audio)</text>\n",
       "\t\t\t\n",
       "\n",
       "\t\t\t<polyline fill=\"none\" points=\"1432,-213.5 1487,-213.5 \" stroke=\"#000000\" stroke-width=\"2\"/>\n",
       "\t\t\t\n",
       "\n",
       "\t\t\t<text fill=\"#000000\" font-family=\"Arial\" font-size=\"12.00\" text-anchor=\"middle\" x=\"1459.5\" y=\"-199.9\">bus</text>\n",
       "\t\t\t\n",
       "\n",
       "\t\t\t<polyline fill=\"none\" points=\"1432,-192.5 1487,-192.5 \" stroke=\"#000000\" stroke-width=\"2\"/>\n",
       "\t\t\t\n",
       "\n",
       "\t\t\t<text fill=\"#000000\" font-family=\"Arial\" font-size=\"12.00\" text-anchor=\"middle\" x=\"1459.5\" y=\"-178.9\">source</text>\n",
       "\t\t\t\n",
       "\n",
       "\t\t\t<polyline fill=\"none\" points=\"1432,-171.5 1487,-171.5 \" stroke=\"#000000\" stroke-width=\"2\"/>\n",
       "\t\t\t\n",
       "\n",
       "\t\t\t<text fill=\"#000000\" font-family=\"Arial\" font-size=\"12.00\" text-anchor=\"middle\" x=\"1459.5\" y=\"-157.9\"> </text>\n",
       "\t\t\t\n",
       "\n",
       "\t\t</g>\n",
       "\t\t\n",
       "\n",
       "\t\t<!-- ugen_2 -->\n",
       "\t\t\n",
       "\n",
       "\t\t<g class=\"node\" id=\"node13\">\n",
       "\t\t\t\n",
       "\n",
       "\t\t\t<title>ugen_2</title>\n",
       "\t\t\t\n",
       "\n",
       "\t\t\t<path d=\"M314,-312.5C314,-312.5 381,-312.5 381,-312.5 387,-312.5 393,-318.5 393,-324.5 393,-324.5 393,-423.5 393,-423.5 393,-429.5 387,-435.5 381,-435.5 381,-435.5 314,-435.5 314,-435.5 308,-435.5 302,-429.5 302,-423.5 302,-423.5 302,-324.5 302,-324.5 302,-318.5 308,-312.5 314,-312.5\" fill=\"#bcd2ee\" stroke=\"#000000\" stroke-width=\"2\"/>\n",
       "\t\t\t\n",
       "\n",
       "\t\t\t<text fill=\"#000000\" font-family=\"Arial\" font-size=\"12.00\" text-anchor=\"middle\" x=\"347.5\" y=\"-421.9\">VarSaw</text>\n",
       "\t\t\t\n",
       "\n",
       "\t\t\t<text fill=\"#000000\" font-family=\"Arial\" font-size=\"12.00\" text-anchor=\"middle\" x=\"347.5\" y=\"-408.9\">(audio)</text>\n",
       "\t\t\t\n",
       "\n",
       "\t\t\t<polyline fill=\"none\" points=\"302,-401.5 393,-401.5 \" stroke=\"#000000\" stroke-width=\"2\"/>\n",
       "\t\t\t\n",
       "\n",
       "\t\t\t<text fill=\"#000000\" font-family=\"Arial\" font-size=\"12.00\" text-anchor=\"middle\" x=\"336.5\" y=\"-387.9\">frequency</text>\n",
       "\t\t\t\n",
       "\n",
       "\t\t\t<polyline fill=\"none\" points=\"302,-380.5 371,-380.5 \" stroke=\"#000000\" stroke-width=\"2\"/>\n",
       "\t\t\t\n",
       "\n",
       "\t\t\t<text fill=\"#000000\" font-family=\"Arial\" font-size=\"12.00\" text-anchor=\"middle\" x=\"336.5\" y=\"-366.9\">initial_phase:</text>\n",
       "\t\t\t\n",
       "\n",
       "\t\t\t<text fill=\"#000000\" font-family=\"Arial\" font-size=\"12.00\" text-anchor=\"middle\" x=\"336.5\" y=\"-353.9\">0.0</text>\n",
       "\t\t\t\n",
       "\n",
       "\t\t\t<polyline fill=\"none\" points=\"302,-346.5 371,-346.5 \" stroke=\"#000000\" stroke-width=\"2\"/>\n",
       "\t\t\t\n",
       "\n",
       "\t\t\t<text fill=\"#000000\" font-family=\"Arial\" font-size=\"12.00\" text-anchor=\"middle\" x=\"336.5\" y=\"-332.9\">width:</text>\n",
       "\t\t\t\n",
       "\n",
       "\t\t\t<text fill=\"#000000\" font-family=\"Arial\" font-size=\"12.00\" text-anchor=\"middle\" x=\"336.5\" y=\"-319.9\">0.3</text>\n",
       "\t\t\t\n",
       "\n",
       "\t\t\t<polyline fill=\"none\" points=\"371,-312.5 371,-401.5 \" stroke=\"#000000\" stroke-width=\"2\"/>\n",
       "\t\t\t\n",
       "\n",
       "\t\t\t<text fill=\"#000000\" font-family=\"Arial\" font-size=\"12.00\" text-anchor=\"middle\" x=\"382\" y=\"-353.9\">0</text>\n",
       "\t\t\t\n",
       "\n",
       "\t\t</g>\n",
       "\t\t\n",
       "\n",
       "\t\t<!-- ugen_3 -->\n",
       "\t\t\n",
       "\n",
       "\t\t<g class=\"node\" id=\"node14\">\n",
       "\t\t\t\n",
       "\n",
       "\t\t\t<title>ugen_3</title>\n",
       "\t\t\t\n",
       "\n",
       "\t\t\t<path d=\"M801,-299.5C801,-299.5 870,-299.5 870,-299.5 876,-299.5 882,-305.5 882,-311.5 882,-311.5 882,-478.5 882,-478.5 882,-484.5 876,-490.5 870,-490.5 870,-490.5 801,-490.5 801,-490.5 795,-490.5 789,-484.5 789,-478.5 789,-478.5 789,-311.5 789,-311.5 789,-305.5 795,-299.5 801,-299.5\" fill=\"#eedc82\" stroke=\"#000000\" stroke-width=\"2\"/>\n",
       "\t\t\t\n",
       "\n",
       "\t\t\t<text fill=\"#000000\" font-family=\"Arial\" font-size=\"12.00\" text-anchor=\"middle\" x=\"835.5\" y=\"-476.9\">Linen</text>\n",
       "\t\t\t\n",
       "\n",
       "\t\t\t<text fill=\"#000000\" font-family=\"Arial\" font-size=\"12.00\" text-anchor=\"middle\" x=\"835.5\" y=\"-463.9\">(control)</text>\n",
       "\t\t\t\n",
       "\n",
       "\t\t\t<polyline fill=\"none\" points=\"789,-456.5 882,-456.5 \" stroke=\"#000000\" stroke-width=\"2\"/>\n",
       "\t\t\t\n",
       "\n",
       "\t\t\t<text fill=\"#000000\" font-family=\"Arial\" font-size=\"12.00\" text-anchor=\"middle\" x=\"824.5\" y=\"-442.9\">gate</text>\n",
       "\t\t\t\n",
       "\n",
       "\t\t\t<polyline fill=\"none\" points=\"789,-435.5 860,-435.5 \" stroke=\"#000000\" stroke-width=\"2\"/>\n",
       "\t\t\t\n",
       "\n",
       "\t\t\t<text fill=\"#000000\" font-family=\"Arial\" font-size=\"12.00\" text-anchor=\"middle\" x=\"824.5\" y=\"-421.9\">attack_time:</text>\n",
       "\t\t\t\n",
       "\n",
       "\t\t\t<text fill=\"#000000\" font-family=\"Arial\" font-size=\"12.00\" text-anchor=\"middle\" x=\"824.5\" y=\"-408.9\">0.01</text>\n",
       "\t\t\t\n",
       "\n",
       "\t\t\t<polyline fill=\"none\" points=\"789,-401.5 860,-401.5 \" stroke=\"#000000\" stroke-width=\"2\"/>\n",
       "\t\t\t\n",
       "\n",
       "\t\t\t<text fill=\"#000000\" font-family=\"Arial\" font-size=\"12.00\" text-anchor=\"middle\" x=\"824.5\" y=\"-387.9\">sustain_level:</text>\n",
       "\t\t\t\n",
       "\n",
       "\t\t\t<text fill=\"#000000\" font-family=\"Arial\" font-size=\"12.00\" text-anchor=\"middle\" x=\"824.5\" y=\"-374.9\">0.7</text>\n",
       "\t\t\t\n",
       "\n",
       "\t\t\t<polyline fill=\"none\" points=\"789,-367.5 860,-367.5 \" stroke=\"#000000\" stroke-width=\"2\"/>\n",
       "\t\t\t\n",
       "\n",
       "\t\t\t<text fill=\"#000000\" font-family=\"Arial\" font-size=\"12.00\" text-anchor=\"middle\" x=\"824.5\" y=\"-353.9\">release_time:</text>\n",
       "\t\t\t\n",
       "\n",
       "\t\t\t<text fill=\"#000000\" font-family=\"Arial\" font-size=\"12.00\" text-anchor=\"middle\" x=\"824.5\" y=\"-340.9\">0.3</text>\n",
       "\t\t\t\n",
       "\n",
       "\t\t\t<polyline fill=\"none\" points=\"789,-333.5 860,-333.5 \" stroke=\"#000000\" stroke-width=\"2\"/>\n",
       "\t\t\t\n",
       "\n",
       "\t\t\t<text fill=\"#000000\" font-family=\"Arial\" font-size=\"12.00\" text-anchor=\"middle\" x=\"824.5\" y=\"-319.9\">done_action:</text>\n",
       "\t\t\t\n",
       "\n",
       "\t\t\t<text fill=\"#000000\" font-family=\"Arial\" font-size=\"12.00\" text-anchor=\"middle\" x=\"824.5\" y=\"-306.9\">2.0</text>\n",
       "\t\t\t\n",
       "\n",
       "\t\t\t<polyline fill=\"none\" points=\"860,-299.5 860,-456.5 \" stroke=\"#000000\" stroke-width=\"2\"/>\n",
       "\t\t\t\n",
       "\n",
       "\t\t\t<text fill=\"#000000\" font-family=\"Arial\" font-size=\"12.00\" text-anchor=\"middle\" x=\"871\" y=\"-374.9\">0</text>\n",
       "\t\t\t\n",
       "\n",
       "\t\t</g>\n",
       "\t\t\n",
       "\n",
       "\t\t<!-- ugen_4 -->\n",
       "\t\t\n",
       "\n",
       "\t\t<g class=\"node\" id=\"node15\">\n",
       "\t\t\t\n",
       "\n",
       "\t\t\t<title>ugen_4</title>\n",
       "\t\t\t\n",
       "\n",
       "\t\t\t<path d=\"M12,-221C12,-221 68,-221 68,-221 74,-221 80,-227 80,-233 80,-233 80,-311 80,-311 80,-317 74,-323 68,-323 68,-323 12,-323 12,-323 6,-323 0,-317 0,-311 0,-311 0,-233 0,-233 0,-227 6,-221 12,-221\" fill=\"#ee9572\" stroke=\"#000000\" stroke-width=\"2\"/>\n",
       "\t\t\t\n",
       "\n",
       "\t\t\t<text fill=\"#000000\" font-family=\"Arial\" font-size=\"12.00\" text-anchor=\"middle\" x=\"40\" y=\"-309.4\">Rand</text>\n",
       "\t\t\t\n",
       "\n",
       "\t\t\t<text fill=\"#000000\" font-family=\"Arial\" font-size=\"12.00\" text-anchor=\"middle\" x=\"40\" y=\"-296.4\">(scalar)</text>\n",
       "\t\t\t\n",
       "\n",
       "\t\t\t<polyline fill=\"none\" points=\"0,-289 80,-289 \" stroke=\"#000000\" stroke-width=\"2\"/>\n",
       "\t\t\t\n",
       "\n",
       "\t\t\t<text fill=\"#000000\" font-family=\"Arial\" font-size=\"12.00\" text-anchor=\"middle\" x=\"29\" y=\"-275.4\">minimum:</text>\n",
       "\t\t\t\n",
       "\n",
       "\t\t\t<text fill=\"#000000\" font-family=\"Arial\" font-size=\"12.00\" text-anchor=\"middle\" x=\"29\" y=\"-262.4\">-0.4</text>\n",
       "\t\t\t\n",
       "\n",
       "\t\t\t<polyline fill=\"none\" points=\"0,-255 58,-255 \" stroke=\"#000000\" stroke-width=\"2\"/>\n",
       "\t\t\t\n",
       "\n",
       "\t\t\t<text fill=\"#000000\" font-family=\"Arial\" font-size=\"12.00\" text-anchor=\"middle\" x=\"29\" y=\"-241.4\">maximum:</text>\n",
       "\t\t\t\n",
       "\n",
       "\t\t\t<text fill=\"#000000\" font-family=\"Arial\" font-size=\"12.00\" text-anchor=\"middle\" x=\"29\" y=\"-228.4\">0.0</text>\n",
       "\t\t\t\n",
       "\n",
       "\t\t\t<polyline fill=\"none\" points=\"58,-221 58,-289 \" stroke=\"#000000\" stroke-width=\"2\"/>\n",
       "\t\t\t\n",
       "\n",
       "\t\t\t<text fill=\"#000000\" font-family=\"Arial\" font-size=\"12.00\" text-anchor=\"middle\" x=\"69\" y=\"-251.9\">0</text>\n",
       "\t\t\t\n",
       "\n",
       "\t\t</g>\n",
       "\t\t\n",
       "\n",
       "\t\t<!-- ugen_5 -->\n",
       "\t\t\n",
       "\n",
       "\t\t<g class=\"node\" id=\"node16\">\n",
       "\t\t\t\n",
       "\n",
       "\t\t\t<title>ugen_5</title>\n",
       "\t\t\t\n",
       "\n",
       "\t\t\t<path d=\"M164,-244.5C164,-244.5 218,-244.5 218,-244.5 224,-244.5 230,-250.5 230,-256.5 230,-256.5 230,-321.5 230,-321.5 230,-327.5 224,-333.5 218,-333.5 218,-333.5 164,-333.5 164,-333.5 158,-333.5 152,-327.5 152,-321.5 152,-321.5 152,-256.5 152,-256.5 152,-250.5 158,-244.5 164,-244.5\" fill=\"#eedc82\" stroke=\"#000000\" stroke-width=\"2\"/>\n",
       "\t\t\t\n",
       "\n",
       "\t\t\t<text fill=\"#000000\" font-family=\"Arial\" font-size=\"12.00\" text-anchor=\"middle\" x=\"191\" y=\"-319.9\">BinaryOpUGen</text>\n",
       "\t\t\t\n",
       "\n",
       "\t\t\t<text fill=\"#000000\" font-family=\"Arial\" font-size=\"12.00\" text-anchor=\"middle\" x=\"191\" y=\"-306.9\">[ADDITION]</text>\n",
       "\t\t\t\n",
       "\n",
       "\t\t\t<text fill=\"#000000\" font-family=\"Arial\" font-size=\"12.00\" text-anchor=\"middle\" x=\"191\" y=\"-293.9\">(control)</text>\n",
       "\t\t\t\n",
       "\n",
       "\t\t\t<polyline fill=\"none\" points=\"152,-286.5 230,-286.5 \" stroke=\"#000000\" stroke-width=\"2\"/>\n",
       "\t\t\t\n",
       "\n",
       "\t\t\t<text fill=\"#000000\" font-family=\"Arial\" font-size=\"12.00\" text-anchor=\"middle\" x=\"174.5\" y=\"-272.9\">left</text>\n",
       "\t\t\t\n",
       "\n",
       "\t\t\t<polyline fill=\"none\" points=\"152,-265.5 197,-265.5 \" stroke=\"#000000\" stroke-width=\"2\"/>\n",
       "\t\t\t\n",
       "\n",
       "\t\t\t<text fill=\"#000000\" font-family=\"Arial\" font-size=\"12.00\" text-anchor=\"middle\" x=\"174.5\" y=\"-251.9\">right</text>\n",
       "\t\t\t\n",
       "\n",
       "\t\t\t<polyline fill=\"none\" points=\"197,-244.5 197,-286.5 \" stroke=\"#000000\" stroke-width=\"2\"/>\n",
       "\t\t\t\n",
       "\n",
       "\t\t\t<text fill=\"#000000\" font-family=\"Arial\" font-size=\"12.00\" text-anchor=\"middle\" x=\"213.5\" y=\"-262.4\">0</text>\n",
       "\t\t\t\n",
       "\n",
       "\t\t</g>\n",
       "\t\t\n",
       "\n",
       "\t\t<!-- ugen_6 -->\n",
       "\t\t\n",
       "\n",
       "\t\t<g class=\"node\" id=\"node17\">\n",
       "\t\t\t\n",
       "\n",
       "\t\t\t<title>ugen_6</title>\n",
       "\t\t\t\n",
       "\n",
       "\t\t\t<path d=\"M314,-170.5C314,-170.5 381,-170.5 381,-170.5 387,-170.5 393,-176.5 393,-182.5 393,-182.5 393,-281.5 393,-281.5 393,-287.5 387,-293.5 381,-293.5 381,-293.5 314,-293.5 314,-293.5 308,-293.5 302,-287.5 302,-281.5 302,-281.5 302,-182.5 302,-182.5 302,-176.5 308,-170.5 314,-170.5\" fill=\"#bcd2ee\" stroke=\"#000000\" stroke-width=\"2\"/>\n",
       "\t\t\t\n",
       "\n",
       "\t\t\t<text fill=\"#000000\" font-family=\"Arial\" font-size=\"12.00\" text-anchor=\"middle\" x=\"347.5\" y=\"-279.9\">VarSaw</text>\n",
       "\t\t\t\n",
       "\n",
       "\t\t\t<text fill=\"#000000\" font-family=\"Arial\" font-size=\"12.00\" text-anchor=\"middle\" x=\"347.5\" y=\"-266.9\">(audio)</text>\n",
       "\t\t\t\n",
       "\n",
       "\t\t\t<polyline fill=\"none\" points=\"302,-259.5 393,-259.5 \" stroke=\"#000000\" stroke-width=\"2\"/>\n",
       "\t\t\t\n",
       "\n",
       "\t\t\t<text fill=\"#000000\" font-family=\"Arial\" font-size=\"12.00\" text-anchor=\"middle\" x=\"336.5\" y=\"-245.9\">frequency</text>\n",
       "\t\t\t\n",
       "\n",
       "\t\t\t<polyline fill=\"none\" points=\"302,-238.5 371,-238.5 \" stroke=\"#000000\" stroke-width=\"2\"/>\n",
       "\t\t\t\n",
       "\n",
       "\t\t\t<text fill=\"#000000\" font-family=\"Arial\" font-size=\"12.00\" text-anchor=\"middle\" x=\"336.5\" y=\"-224.9\">initial_phase:</text>\n",
       "\t\t\t\n",
       "\n",
       "\t\t\t<text fill=\"#000000\" font-family=\"Arial\" font-size=\"12.00\" text-anchor=\"middle\" x=\"336.5\" y=\"-211.9\">0.0</text>\n",
       "\t\t\t\n",
       "\n",
       "\t\t\t<polyline fill=\"none\" points=\"302,-204.5 371,-204.5 \" stroke=\"#000000\" stroke-width=\"2\"/>\n",
       "\t\t\t\n",
       "\n",
       "\t\t\t<text fill=\"#000000\" font-family=\"Arial\" font-size=\"12.00\" text-anchor=\"middle\" x=\"336.5\" y=\"-190.9\">width:</text>\n",
       "\t\t\t\n",
       "\n",
       "\t\t\t<text fill=\"#000000\" font-family=\"Arial\" font-size=\"12.00\" text-anchor=\"middle\" x=\"336.5\" y=\"-177.9\">0.3</text>\n",
       "\t\t\t\n",
       "\n",
       "\t\t\t<polyline fill=\"none\" points=\"371,-170.5 371,-259.5 \" stroke=\"#000000\" stroke-width=\"2\"/>\n",
       "\t\t\t\n",
       "\n",
       "\t\t\t<text fill=\"#000000\" font-family=\"Arial\" font-size=\"12.00\" text-anchor=\"middle\" x=\"382\" y=\"-211.9\">0</text>\n",
       "\t\t\t\n",
       "\n",
       "\t\t</g>\n",
       "\t\t\n",
       "\n",
       "\t\t<!-- ugen_7 -->\n",
       "\t\t\n",
       "\n",
       "\t\t<g class=\"node\" id=\"node18\">\n",
       "\t\t\t\n",
       "\n",
       "\t\t\t<title>ugen_7</title>\n",
       "\t\t\t\n",
       "\n",
       "\t\t\t<path d=\"M12,-81C12,-81 68,-81 68,-81 74,-81 80,-87 80,-93 80,-93 80,-171 80,-171 80,-177 74,-183 68,-183 68,-183 12,-183 12,-183 6,-183 0,-177 0,-171 0,-171 0,-93 0,-93 0,-87 6,-81 12,-81\" fill=\"#ee9572\" stroke=\"#000000\" stroke-width=\"2\"/>\n",
       "\t\t\t\n",
       "\n",
       "\t\t\t<text fill=\"#000000\" font-family=\"Arial\" font-size=\"12.00\" text-anchor=\"middle\" x=\"40\" y=\"-169.4\">Rand</text>\n",
       "\t\t\t\n",
       "\n",
       "\t\t\t<text fill=\"#000000\" font-family=\"Arial\" font-size=\"12.00\" text-anchor=\"middle\" x=\"40\" y=\"-156.4\">(scalar)</text>\n",
       "\t\t\t\n",
       "\n",
       "\t\t\t<polyline fill=\"none\" points=\"0,-149 80,-149 \" stroke=\"#000000\" stroke-width=\"2\"/>\n",
       "\t\t\t\n",
       "\n",
       "\t\t\t<text fill=\"#000000\" font-family=\"Arial\" font-size=\"12.00\" text-anchor=\"middle\" x=\"29\" y=\"-135.4\">minimum:</text>\n",
       "\t\t\t\n",
       "\n",
       "\t\t\t<text fill=\"#000000\" font-family=\"Arial\" font-size=\"12.00\" text-anchor=\"middle\" x=\"29\" y=\"-122.4\">0.0</text>\n",
       "\t\t\t\n",
       "\n",
       "\t\t\t<polyline fill=\"none\" points=\"0,-115 58,-115 \" stroke=\"#000000\" stroke-width=\"2\"/>\n",
       "\t\t\t\n",
       "\n",
       "\t\t\t<text fill=\"#000000\" font-family=\"Arial\" font-size=\"12.00\" text-anchor=\"middle\" x=\"29\" y=\"-101.4\">maximum:</text>\n",
       "\t\t\t\n",
       "\n",
       "\t\t\t<text fill=\"#000000\" font-family=\"Arial\" font-size=\"12.00\" text-anchor=\"middle\" x=\"29\" y=\"-88.4\">0.4</text>\n",
       "\t\t\t\n",
       "\n",
       "\t\t\t<polyline fill=\"none\" points=\"58,-81 58,-149 \" stroke=\"#000000\" stroke-width=\"2\"/>\n",
       "\t\t\t\n",
       "\n",
       "\t\t\t<text fill=\"#000000\" font-family=\"Arial\" font-size=\"12.00\" text-anchor=\"middle\" x=\"69\" y=\"-111.9\">0</text>\n",
       "\t\t\t\n",
       "\n",
       "\t\t</g>\n",
       "\t\t\n",
       "\n",
       "\t\t<!-- ugen_8 -->\n",
       "\t\t\n",
       "\n",
       "\t\t<g class=\"node\" id=\"node19\">\n",
       "\t\t\t\n",
       "\n",
       "\t\t\t<title>ugen_8</title>\n",
       "\t\t\t\n",
       "\n",
       "\t\t\t<path d=\"M164,-104.5C164,-104.5 218,-104.5 218,-104.5 224,-104.5 230,-110.5 230,-116.5 230,-116.5 230,-181.5 230,-181.5 230,-187.5 224,-193.5 218,-193.5 218,-193.5 164,-193.5 164,-193.5 158,-193.5 152,-187.5 152,-181.5 152,-181.5 152,-116.5 152,-116.5 152,-110.5 158,-104.5 164,-104.5\" fill=\"#eedc82\" stroke=\"#000000\" stroke-width=\"2\"/>\n",
       "\t\t\t\n",
       "\n",
       "\t\t\t<text fill=\"#000000\" font-family=\"Arial\" font-size=\"12.00\" text-anchor=\"middle\" x=\"191\" y=\"-179.9\">BinaryOpUGen</text>\n",
       "\t\t\t\n",
       "\n",
       "\t\t\t<text fill=\"#000000\" font-family=\"Arial\" font-size=\"12.00\" text-anchor=\"middle\" x=\"191\" y=\"-166.9\">[ADDITION]</text>\n",
       "\t\t\t\n",
       "\n",
       "\t\t\t<text fill=\"#000000\" font-family=\"Arial\" font-size=\"12.00\" text-anchor=\"middle\" x=\"191\" y=\"-153.9\">(control)</text>\n",
       "\t\t\t\n",
       "\n",
       "\t\t\t<polyline fill=\"none\" points=\"152,-146.5 230,-146.5 \" stroke=\"#000000\" stroke-width=\"2\"/>\n",
       "\t\t\t\n",
       "\n",
       "\t\t\t<text fill=\"#000000\" font-family=\"Arial\" font-size=\"12.00\" text-anchor=\"middle\" x=\"174.5\" y=\"-132.9\">left</text>\n",
       "\t\t\t\n",
       "\n",
       "\t\t\t<polyline fill=\"none\" points=\"152,-125.5 197,-125.5 \" stroke=\"#000000\" stroke-width=\"2\"/>\n",
       "\t\t\t\n",
       "\n",
       "\t\t\t<text fill=\"#000000\" font-family=\"Arial\" font-size=\"12.00\" text-anchor=\"middle\" x=\"174.5\" y=\"-111.9\">right</text>\n",
       "\t\t\t\n",
       "\n",
       "\t\t\t<polyline fill=\"none\" points=\"197,-104.5 197,-146.5 \" stroke=\"#000000\" stroke-width=\"2\"/>\n",
       "\t\t\t\n",
       "\n",
       "\t\t\t<text fill=\"#000000\" font-family=\"Arial\" font-size=\"12.00\" text-anchor=\"middle\" x=\"213.5\" y=\"-122.4\">0</text>\n",
       "\t\t\t\n",
       "\n",
       "\t\t</g>\n",
       "\t\t\n",
       "\n",
       "\t\t<!-- ugen_9 -->\n",
       "\t\t\n",
       "\n",
       "\t\t<g class=\"node\" id=\"node20\">\n",
       "\t\t\t\n",
       "\n",
       "\t\t\t<title>ugen_9</title>\n",
       "\t\t\t\n",
       "\n",
       "\t\t\t<path d=\"M314,-28.5C314,-28.5 381,-28.5 381,-28.5 387,-28.5 393,-34.5 393,-40.5 393,-40.5 393,-139.5 393,-139.5 393,-145.5 387,-151.5 381,-151.5 381,-151.5 314,-151.5 314,-151.5 308,-151.5 302,-145.5 302,-139.5 302,-139.5 302,-40.5 302,-40.5 302,-34.5 308,-28.5 314,-28.5\" fill=\"#bcd2ee\" stroke=\"#000000\" stroke-width=\"2\"/>\n",
       "\t\t\t\n",
       "\n",
       "\t\t\t<text fill=\"#000000\" font-family=\"Arial\" font-size=\"12.00\" text-anchor=\"middle\" x=\"347.5\" y=\"-137.9\">VarSaw</text>\n",
       "\t\t\t\n",
       "\n",
       "\t\t\t<text fill=\"#000000\" font-family=\"Arial\" font-size=\"12.00\" text-anchor=\"middle\" x=\"347.5\" y=\"-124.9\">(audio)</text>\n",
       "\t\t\t\n",
       "\n",
       "\t\t\t<polyline fill=\"none\" points=\"302,-117.5 393,-117.5 \" stroke=\"#000000\" stroke-width=\"2\"/>\n",
       "\t\t\t\n",
       "\n",
       "\t\t\t<text fill=\"#000000\" font-family=\"Arial\" font-size=\"12.00\" text-anchor=\"middle\" x=\"336.5\" y=\"-103.9\">frequency</text>\n",
       "\t\t\t\n",
       "\n",
       "\t\t\t<polyline fill=\"none\" points=\"302,-96.5 371,-96.5 \" stroke=\"#000000\" stroke-width=\"2\"/>\n",
       "\t\t\t\n",
       "\n",
       "\t\t\t<text fill=\"#000000\" font-family=\"Arial\" font-size=\"12.00\" text-anchor=\"middle\" x=\"336.5\" y=\"-82.9\">initial_phase:</text>\n",
       "\t\t\t\n",
       "\n",
       "\t\t\t<text fill=\"#000000\" font-family=\"Arial\" font-size=\"12.00\" text-anchor=\"middle\" x=\"336.5\" y=\"-69.9\">0.0</text>\n",
       "\t\t\t\n",
       "\n",
       "\t\t\t<polyline fill=\"none\" points=\"302,-62.5 371,-62.5 \" stroke=\"#000000\" stroke-width=\"2\"/>\n",
       "\t\t\t\n",
       "\n",
       "\t\t\t<text fill=\"#000000\" font-family=\"Arial\" font-size=\"12.00\" text-anchor=\"middle\" x=\"336.5\" y=\"-48.9\">width:</text>\n",
       "\t\t\t\n",
       "\n",
       "\t\t\t<text fill=\"#000000\" font-family=\"Arial\" font-size=\"12.00\" text-anchor=\"middle\" x=\"336.5\" y=\"-35.9\">0.3</text>\n",
       "\t\t\t\n",
       "\n",
       "\t\t\t<polyline fill=\"none\" points=\"371,-28.5 371,-117.5 \" stroke=\"#000000\" stroke-width=\"2\"/>\n",
       "\t\t\t\n",
       "\n",
       "\t\t\t<text fill=\"#000000\" font-family=\"Arial\" font-size=\"12.00\" text-anchor=\"middle\" x=\"382\" y=\"-69.9\">0</text>\n",
       "\t\t\t\n",
       "\n",
       "\t\t</g>\n",
       "\t\t\n",
       "\n",
       "\t</g>\n",
       "\t\n",
       "\n",
       "</svg>\n"
      ]
     },
     "metadata": {},
     "output_type": "display_data"
    }
   ],
   "source": [
    "import supriya\n",
    "_ = supriya.graph(synthdefs.default)"
   ]
  },
  {
   "cell_type": "code",
   "execution_count": null,
   "metadata": {},
   "outputs": [],
   "source": []
  }
 ],
 "metadata": {
  "celltoolbar": "Slideshow",
  "kernelspec": {
   "display_name": "Python 3",
   "language": "python",
   "name": "python3"
  },
  "language_info": {
   "codemirror_mode": {
    "name": "ipython",
    "version": 3
   },
   "file_extension": ".py",
   "mimetype": "text/x-python",
   "name": "python",
   "nbconvert_exporter": "python",
   "pygments_lexer": "ipython3",
   "version": "3.6.5"
  },
  "rise": {
   "autolaunch": true,
   "transition": "slide"
  }
 },
 "nbformat": 4,
 "nbformat_minor": 2
}
