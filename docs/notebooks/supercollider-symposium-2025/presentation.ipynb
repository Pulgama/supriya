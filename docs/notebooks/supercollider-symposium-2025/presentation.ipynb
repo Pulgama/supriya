{
 "cells": [
  {
   "cell_type": "code",
   "execution_count": 2,
   "id": "698deca6-8881-40c3-acb8-8f5aa975858a",
   "metadata": {
    "editable": true,
    "slideshow": {
     "slide_type": "skip"
    },
    "tags": []
   },
   "outputs": [
    {
     "name": "stdout",
     "output_type": "stream",
     "text": [
      "Pretty printing has been turned ON\n",
      "The supriya.ext.ipython extension is already loaded. To reload it, use:\n",
      "  %reload_ext supriya.ext.ipython\n"
     ]
    }
   ],
   "source": [
    "%pprint\n",
    "%load_ext supriya.ext.ipython\n",
    "\n",
    "import warnings\n",
    "\n",
    "warnings.filterwarnings(action=\"default\", module=\"supriya\")\n",
    "\n",
    "from supriya.scsynth import kill\n",
    "\n",
    "kill()"
   ]
  },
  {
   "cell_type": "code",
   "execution_count": null,
   "id": "cdcf37d0-3b4f-4cbd-9e90-fa1245c3b961",
   "metadata": {
    "editable": true,
    "slideshow": {
     "slide_type": "skip"
    },
    "tags": []
   },
   "outputs": [],
   "source": [
    "# soundcheck"
   ]
  },
  {
   "cell_type": "markdown",
   "id": "4670abad-1c37-4577-8b00-6a66f8d360de",
   "metadata": {
    "editable": true,
    "slideshow": {
     "slide_type": "slide"
    },
    "tags": []
   },
   "source": [
    "March 18th, 2025\n",
    "\n",
    "# Supriya: a Python API for SuperCollider\n",
    "\n",
    "Joséphine Wolf Oberholtzer (she / her)"
   ]
  },
  {
   "cell_type": "markdown",
   "id": "50e3b3d8-5b58-4128-a21d-df50af8d18b3",
   "metadata": {
    "editable": true,
    "slideshow": {
     "slide_type": "slide"
    },
    "tags": []
   },
   "source": [
    "## Introduction\n",
    "\n",
    "- who am i\n",
    "- what is supriya\n",
    "- what isn't it\n",
    "- what is this presentation\n",
    "- what isn't this presentation\n",
    "- what's in a name\n",
    "- presentation overview"
   ]
  },
  {
   "cell_type": "markdown",
   "id": "ca7c9bae-96e9-4335-a504-fcb01680ad34",
   "metadata": {
    "editable": true,
    "slideshow": {
     "slide_type": ""
    },
    "tags": []
   },
   "source": [
    "## Servers"
   ]
  },
  {
   "cell_type": "markdown",
   "id": "4cd7f5d4-92e4-4f0f-a94e-eaa77201ad09",
   "metadata": {
    "editable": true,
    "slideshow": {
     "slide_type": "slide"
    },
    "tags": []
   },
   "source": [
    "### Import supriya"
   ]
  },
  {
   "cell_type": "code",
   "execution_count": null,
   "id": "fa85883e-82dd-4d3e-a0d2-00dd56549f42",
   "metadata": {
    "editable": true,
    "slideshow": {
     "slide_type": ""
    },
    "tags": []
   },
   "outputs": [],
   "source": [
    "import supriya"
   ]
  },
  {
   "cell_type": "code",
   "execution_count": null,
   "id": "601689d7-7354-4c3d-ab9a-60aa3173c22e",
   "metadata": {
    "editable": true,
    "slideshow": {
     "slide_type": ""
    },
    "tags": []
   },
   "outputs": [],
   "source": [
    "dir(supriya)"
   ]
  },
  {
   "cell_type": "markdown",
   "id": "718c0257-4061-44c7-ab65-969aa3314ec0",
   "metadata": {
    "editable": true,
    "slideshow": {
     "slide_type": "slide"
    },
    "tags": []
   },
   "source": [
    "### Import `Server`"
   ]
  },
  {
   "cell_type": "code",
   "execution_count": null,
   "id": "1038d0f1-69ea-483d-b4d5-3bfcfab19cc4",
   "metadata": {
    "editable": true,
    "slideshow": {
     "slide_type": ""
    },
    "tags": []
   },
   "outputs": [],
   "source": [
    "from supriya import Server"
   ]
  },
  {
   "cell_type": "code",
   "execution_count": null,
   "id": "99456c5d-f398-4357-a14a-8900ce5f0eb2",
   "metadata": {
    "editable": true,
    "slideshow": {
     "slide_type": ""
    },
    "tags": []
   },
   "outputs": [],
   "source": [
    "server = Server()"
   ]
  },
  {
   "cell_type": "code",
   "execution_count": null,
   "id": "03dc3218-4f83-4018-b2a7-9c64e8fbc572",
   "metadata": {
    "editable": true,
    "slideshow": {
     "slide_type": ""
    },
    "tags": []
   },
   "outputs": [],
   "source": [
    "dir(server)"
   ]
  },
  {
   "cell_type": "markdown",
   "id": "aa51a566-8b28-4107-bb7d-ac614cf17e88",
   "metadata": {
    "editable": true,
    "slideshow": {
     "slide_type": "slide"
    },
    "tags": []
   },
   "source": [
    "### Server options"
   ]
  },
  {
   "cell_type": "code",
   "execution_count": null,
   "id": "e73b1886-e7e0-4bf8-984a-5a3058e3d3ef",
   "metadata": {
    "editable": true,
    "slideshow": {
     "slide_type": ""
    },
    "tags": []
   },
   "outputs": [],
   "source": [
    "server"
   ]
  },
  {
   "cell_type": "code",
   "execution_count": null,
   "id": "91d3dcd7-05f7-48d0-adbc-6c980e85340e",
   "metadata": {
    "editable": true,
    "slideshow": {
     "slide_type": ""
    },
    "tags": []
   },
   "outputs": [],
   "source": [
    "# TODO: Make Options a dataclass\n",
    "server.options"
   ]
  },
  {
   "cell_type": "markdown",
   "id": "c912f762-4a34-46fe-8ee3-99cdebe76596",
   "metadata": {
    "editable": true,
    "slideshow": {
     "slide_type": "slide"
    },
    "tags": []
   },
   "source": [
    "### Boot the server"
   ]
  },
  {
   "cell_type": "code",
   "execution_count": null,
   "id": "c9febd96-3538-4aaa-a4c2-63d20236e757",
   "metadata": {
    "editable": true,
    "slideshow": {
     "slide_type": ""
    },
    "tags": []
   },
   "outputs": [],
   "source": [
    "server.boot()"
   ]
  },
  {
   "cell_type": "markdown",
   "id": "1d48b0e8-fa6d-4d82-9e4e-68aa645d8d7d",
   "metadata": {
    "editable": true,
    "slideshow": {
     "slide_type": "slide"
    },
    "tags": []
   },
   "source": [
    "### Inspect the server"
   ]
  },
  {
   "cell_type": "code",
   "execution_count": null,
   "id": "e32b99e7-7e6f-4723-8b6c-68e78931ec65",
   "metadata": {
    "editable": true,
    "slideshow": {
     "slide_type": ""
    },
    "tags": []
   },
   "outputs": [],
   "source": [
    "server.status"
   ]
  },
  {
   "cell_type": "code",
   "execution_count": null,
   "id": "1c24e0ba-b434-43c8-9f73-f2fa31d3cea9",
   "metadata": {
    "editable": true,
    "slideshow": {
     "slide_type": ""
    },
    "tags": []
   },
   "outputs": [],
   "source": [
    "print(tree := server.query_tree())"
   ]
  },
  {
   "cell_type": "code",
   "execution_count": null,
   "id": "6ea174fa-911b-4bfb-8e6f-e4078bc6dd33",
   "metadata": {
    "editable": true,
    "slideshow": {
     "slide_type": ""
    },
    "tags": []
   },
   "outputs": [],
   "source": [
    "tree"
   ]
  },
  {
   "cell_type": "markdown",
   "id": "01c65c9a-f637-4399-aa39-f1a40e2e98a4",
   "metadata": {
    "editable": true,
    "slideshow": {
     "slide_type": ""
    },
    "tags": []
   },
   "source": [
    "### Reset the server"
   ]
  },
  {
   "cell_type": "code",
   "execution_count": null,
   "id": "78df7d36-31a1-4020-b3e7-35b9bcfb06ec",
   "metadata": {
    "editable": true,
    "slideshow": {
     "slide_type": ""
    },
    "tags": []
   },
   "outputs": [],
   "source": [
    "server.reset()"
   ]
  },
  {
   "cell_type": "code",
   "execution_count": null,
   "id": "96dd59eb-58b7-45b1-88ed-e7f7df502e09",
   "metadata": {},
   "outputs": [],
   "source": [
    "print(tree := server.query_tree())"
   ]
  },
  {
   "cell_type": "markdown",
   "id": "c8baccc7-375b-4d22-88a9-6f06f7d36701",
   "metadata": {
    "editable": true,
    "slideshow": {
     "slide_type": "slide"
    },
    "tags": []
   },
   "source": [
    "### Quit the server"
   ]
  },
  {
   "cell_type": "code",
   "execution_count": null,
   "id": "0ab70b1d-739b-409c-a9f6-bf86a8deb331",
   "metadata": {
    "editable": true,
    "slideshow": {
     "slide_type": "slide"
    },
    "tags": []
   },
   "outputs": [],
   "source": [
    "server.quit()"
   ]
  },
  {
   "cell_type": "markdown",
   "id": "412159d4-5a5d-43f8-ad18-ce12e29bccff",
   "metadata": {
    "editable": true,
    "slideshow": {
     "slide_type": ""
    },
    "tags": []
   },
   "source": [
    "### Boot with options"
   ]
  },
  {
   "cell_type": "code",
   "execution_count": null,
   "id": "909c6c0e-9c62-49b9-8fae-f6a5565aeb21",
   "metadata": {
    "editable": true,
    "slideshow": {
     "slide_type": ""
    },
    "tags": []
   },
   "outputs": [],
   "source": [
    "server.boot(maximum_logins=2)"
   ]
  },
  {
   "cell_type": "markdown",
   "id": "a61ac68d-f7cc-4320-a1bf-1947ff4bb544",
   "metadata": {
    "editable": true,
    "slideshow": {
     "slide_type": ""
    },
    "tags": []
   },
   "source": [
    "### Multiple users"
   ]
  },
  {
   "cell_type": "code",
   "execution_count": null,
   "id": "84360740-24a5-49c9-8167-3742417b79e3",
   "metadata": {
    "editable": true,
    "slideshow": {
     "slide_type": ""
    },
    "tags": []
   },
   "outputs": [],
   "source": [
    "other_server = Server()\n",
    "other_server"
   ]
  },
  {
   "cell_type": "code",
   "execution_count": null,
   "id": "c54daeef-2045-4c54-b34f-ed0e57b0276e",
   "metadata": {
    "editable": true,
    "slideshow": {
     "slide_type": ""
    },
    "tags": []
   },
   "outputs": [],
   "source": [
    "server"
   ]
  },
  {
   "cell_type": "code",
   "execution_count": null,
   "id": "92ed6fff-9e25-44a1-86e9-706b9e3c5b20",
   "metadata": {
    "editable": true,
    "slideshow": {
     "slide_type": ""
    },
    "tags": []
   },
   "outputs": [],
   "source": [
    "other_server.connect()"
   ]
  },
  {
   "cell_type": "code",
   "execution_count": null,
   "id": "e5974137-3274-4895-b11a-4706add9ef50",
   "metadata": {
    "editable": true,
    "slideshow": {
     "slide_type": ""
    },
    "tags": []
   },
   "outputs": [],
   "source": [
    "other_server.disconnect()"
   ]
  },
  {
   "cell_type": "code",
   "execution_count": null,
   "id": "b2339bc7-ecd9-4e9d-abc7-d617e185a984",
   "metadata": {
    "editable": true,
    "slideshow": {
     "slide_type": ""
    },
    "tags": []
   },
   "outputs": [],
   "source": [
    "server"
   ]
  },
  {
   "cell_type": "markdown",
   "id": "602df54d-6601-4d74-9cff-6a5110537242",
   "metadata": {
    "editable": true,
    "slideshow": {
     "slide_type": ""
    },
    "tags": []
   },
   "source": [
    "### Lifecycle events"
   ]
  },
  {
   "cell_type": "code",
   "execution_count": null,
   "id": "19e91c26-5266-4041-ad6f-508c6c8eb05f",
   "metadata": {
    "editable": true,
    "slideshow": {
     "slide_type": ""
    },
    "tags": []
   },
   "outputs": [],
   "source": [
    "def on_event(event):\n",
    "    print(event)\n",
    "\n",
    "for event_type in supriya.ServerLifecycleEvent:\n",
    "    server.on(event_type, on_event)\n",
    "    other_server.on(event_type, on_event)"
   ]
  },
  {
   "cell_type": "code",
   "execution_count": null,
   "id": "b17018bc-ec09-4d18-8900-f92145517f49",
   "metadata": {
    "editable": true,
    "scrolled": true,
    "slideshow": {
     "slide_type": ""
    },
    "tags": []
   },
   "outputs": [],
   "source": [
    "server.reboot()"
   ]
  },
  {
   "cell_type": "code",
   "execution_count": null,
   "id": "3f2a8740-bda9-4c88-ad01-2cd28b5e4369",
   "metadata": {},
   "outputs": [],
   "source": [
    "# this will panic\n",
    "other_server.boot()"
   ]
  },
  {
   "cell_type": "code",
   "execution_count": null,
   "id": "1548a1a7-f008-475f-aa78-a0491b29b724",
   "metadata": {
    "editable": true,
    "slideshow": {
     "slide_type": ""
    },
    "tags": []
   },
   "outputs": [],
   "source": [
    "server.quit()"
   ]
  },
  {
   "cell_type": "markdown",
   "id": "6940ac0e-bb08-4259-817c-60ac86b41cd7",
   "metadata": {
    "editable": true,
    "slideshow": {
     "slide_type": ""
    },
    "tags": []
   },
   "source": [
    "## Entities"
   ]
  },
  {
   "cell_type": "markdown",
   "id": "0d747f16-9c98-4e76-af22-8beef7f7f222",
   "metadata": {
    "editable": true,
    "slideshow": {
     "slide_type": "slide"
    },
    "tags": []
   },
   "source": [
    "### Groups"
   ]
  },
  {
   "cell_type": "code",
   "execution_count": null,
   "id": "82b84bd3-e2c8-42f6-bd59-3c7bee1e06e7",
   "metadata": {},
   "outputs": [],
   "source": [
    "server = Server().boot()"
   ]
  },
  {
   "cell_type": "code",
   "execution_count": null,
   "id": "88850372-861b-410b-855d-d4de5d9ecea3",
   "metadata": {
    "editable": true,
    "slideshow": {
     "slide_type": ""
    },
    "tags": []
   },
   "outputs": [],
   "source": [
    "# add a group\n",
    "group = server.add_group()\n",
    "print(group)\n",
    "print(dir(group))\n",
    "print(server.query_tree())"
   ]
  },
  {
   "cell_type": "code",
   "execution_count": null,
   "id": "ee63edc9-bbb2-445f-a7c6-499eb1782f8e",
   "metadata": {
    "editable": true,
    "slideshow": {
     "slide_type": ""
    },
    "tags": []
   },
   "outputs": [],
   "source": [
    "# add a group to the group\n",
    "child_group = group.add_group()\n",
    "print(server.query_tree())"
   ]
  },
  {
   "cell_type": "code",
   "execution_count": null,
   "id": "0dd578c4-8413-4f4f-940e-c68780f1f5df",
   "metadata": {
    "editable": true,
    "slideshow": {
     "slide_type": ""
    },
    "tags": []
   },
   "outputs": [],
   "source": [
    "# move the child group into the default group\n",
    "child_group.move(target_node=server.default_group, add_action=\"ADD_TO_TAIL\")\n",
    "print(server.query_tree())"
   ]
  },
  {
   "cell_type": "code",
   "execution_count": null,
   "id": "9ba833bf-0e3c-41c8-8a7d-d93a66db3b67",
   "metadata": {
    "editable": true,
    "slideshow": {
     "slide_type": ""
    },
    "tags": []
   },
   "outputs": [],
   "source": [
    "# free the original parent group\n",
    "group.free()\n",
    "print(server.query_tree())"
   ]
  },
  {
   "cell_type": "markdown",
   "id": "e87024c0-5578-4d8c-a602-06859fb436f9",
   "metadata": {
    "editable": true,
    "slideshow": {
     "slide_type": ""
    },
    "tags": []
   },
   "source": [
    "### Synths"
   ]
  },
  {
   "cell_type": "code",
   "execution_count": null,
   "id": "c6227c61-f445-44dc-bf6e-f6497d26e140",
   "metadata": {
    "editable": true,
    "slideshow": {
     "slide_type": ""
    },
    "tags": []
   },
   "outputs": [],
   "source": [
    "# add a synth (this will fail, silently)\n",
    "synth = child_group.add_synth(synthdef=supriya.default)"
   ]
  },
  {
   "cell_type": "code",
   "execution_count": null,
   "id": "be7a54e1-b974-4d61-9dc6-8d031d01c146",
   "metadata": {
    "editable": true,
    "slideshow": {
     "slide_type": ""
    },
    "tags": []
   },
   "outputs": [],
   "source": [
    "# we have a proxy to a synth\n",
    "synth"
   ]
  },
  {
   "cell_type": "code",
   "execution_count": null,
   "id": "a3adb964-e2e4-40b5-b220-269b00232d41",
   "metadata": {
    "editable": true,
    "slideshow": {
     "slide_type": ""
    },
    "tags": []
   },
   "outputs": [],
   "source": [
    "# but nothing on the server, because the request failed\n",
    "print(server.query_tree())"
   ]
  },
  {
   "cell_type": "code",
   "execution_count": null,
   "id": "cdfab62a-02c9-4e74-9ea9-fddbe8943e58",
   "metadata": {
    "editable": true,
    "slideshow": {
     "slide_type": ""
    },
    "tags": []
   },
   "outputs": [],
   "source": [
    "# using on_completion keyword argument\n",
    "server.add_synthdefs(\n",
    "    supriya.default,\n",
    "    on_completion=lambda server: child_group.add_synth(synthdef=supriya.default),\n",
    ") \n",
    "server.sync()\n",
    "print(server.query_tree())"
   ]
  },
  {
   "cell_type": "code",
   "execution_count": null,
   "id": "0ac2b1e9-4414-40de-8922-76231767bf86",
   "metadata": {
    "editable": true,
    "slideshow": {
     "slide_type": ""
    },
    "tags": []
   },
   "outputs": [],
   "source": [
    "# using completion context manager\n",
    "with server.at():\n",
    "    with server.add_synthdefs(supriya.default):\n",
    "        synth = child_group.add_synth(synthdef=supriya.default, frequency=666)\n",
    "server.sync()\n",
    "print(server.query_tree())"
   ]
  },
  {
   "cell_type": "code",
   "execution_count": null,
   "id": "98e54b11-8140-45d7-977c-9cfd7205c45d",
   "metadata": {
    "editable": true,
    "slideshow": {
     "slide_type": ""
    },
    "tags": []
   },
   "outputs": [],
   "source": [
    "synth.set(frequency=555)"
   ]
  },
  {
   "cell_type": "code",
   "execution_count": null,
   "id": "24a9564d-59ed-439e-a931-0a862134dbcd",
   "metadata": {
    "editable": true,
    "slideshow": {
     "slide_type": ""
    },
    "tags": []
   },
   "outputs": [],
   "source": [
    "synth.free()"
   ]
  },
  {
   "cell_type": "code",
   "execution_count": null,
   "id": "e9262265-a4d2-4f59-b17f-fedc03972546",
   "metadata": {
    "editable": true,
    "slideshow": {
     "slide_type": ""
    },
    "tags": []
   },
   "outputs": [],
   "source": [
    "child_group.set(gate=0)"
   ]
  },
  {
   "cell_type": "markdown",
   "id": "cfdf9e4f-6a52-4b02-95a7-0f5c8849b22c",
   "metadata": {
    "editable": true,
    "slideshow": {
     "slide_type": ""
    },
    "tags": []
   },
   "source": [
    "### Buses"
   ]
  },
  {
   "cell_type": "markdown",
   "id": "815a33a8-5748-4f91-9c11-0193f86cf861",
   "metadata": {},
   "source": [
    "- calculation rates\n",
    "- allocate and free\n",
    "- buses vs bus groups\n",
    "- shared memory"
   ]
  },
  {
   "cell_type": "markdown",
   "id": "8e961d49-9cb1-45e4-b860-19f5bfb40caf",
   "metadata": {
    "editable": true,
    "slideshow": {
     "slide_type": ""
    },
    "tags": []
   },
   "source": [
    "### Buffers"
   ]
  },
  {
   "cell_type": "markdown",
   "id": "84f6a2e2-388d-4c1e-8816-c25fcc1e23e0",
   "metadata": {},
   "source": [
    "- allocate and free\n",
    "- read sound files\n",
    "- generating\n",
    "- plotting"
   ]
  },
  {
   "cell_type": "markdown",
   "id": "c9f9e39c-4434-4eb3-82b9-63bab4b2eba2",
   "metadata": {
    "editable": true,
    "slideshow": {
     "slide_type": ""
    },
    "tags": []
   },
   "source": [
    "## Messages"
   ]
  },
  {
   "cell_type": "code",
   "execution_count": null,
   "id": "be43f94e-4df1-438c-a329-04a8acbb36b6",
   "metadata": {
    "editable": true,
    "slideshow": {
     "slide_type": ""
    },
    "tags": []
   },
   "outputs": [],
   "source": [
    "server.reset()"
   ]
  },
  {
   "cell_type": "code",
   "execution_count": null,
   "id": "6f8cb838-eab3-4936-bc2b-35b76b7c1f7b",
   "metadata": {
    "editable": true,
    "slideshow": {
     "slide_type": ""
    },
    "tags": []
   },
   "outputs": [],
   "source": [
    "server.osc_protocol"
   ]
  },
  {
   "cell_type": "code",
   "execution_count": null,
   "id": "11e4684f-fc94-4f54-ba34-f81bb4c9be23",
   "metadata": {
    "editable": true,
    "slideshow": {
     "slide_type": ""
    },
    "tags": []
   },
   "outputs": [],
   "source": [
    "with server.osc_protocol.capture() as transcript:\n",
    "    with server.at():\n",
    "        with server.add_synthdefs(supriya.default):\n",
    "            group = server.add_group()\n",
    "            synth = group.add_synth(synthdef=supriya.default, frequency=666)"
   ]
  },
  {
   "cell_type": "code",
   "execution_count": null,
   "id": "3a85cfa2-7a9d-4283-88a9-888a44dab6c6",
   "metadata": {
    "editable": true,
    "slideshow": {
     "slide_type": ""
    },
    "tags": []
   },
   "outputs": [],
   "source": [
    "for x in transcript: print(x)"
   ]
  },
  {
   "cell_type": "markdown",
   "id": "fe72a17c-7ed1-40e1-8a91-46b7d2cbaaaa",
   "metadata": {},
   "source": [
    "### OSC messages & bundles"
   ]
  },
  {
   "cell_type": "markdown",
   "id": "583e4a52-00ee-47ea-ba4c-9109353d5df0",
   "metadata": {},
   "source": [
    "### Sending messages"
   ]
  },
  {
   "cell_type": "markdown",
   "id": "0b5bfe71-8061-4c6d-bcac-d61c8bf66726",
   "metadata": {},
   "source": [
    "### OSC protocols"
   ]
  },
  {
   "cell_type": "markdown",
   "id": "a7cfb699-344e-4462-89ab-fd3060431ef9",
   "metadata": {},
   "source": [
    "### Capturing IO"
   ]
  },
  {
   "cell_type": "markdown",
   "id": "e60d20cb-fb6f-419c-a2aa-e4a1c02f1948",
   "metadata": {},
   "source": [
    "### Moments & completions"
   ]
  },
  {
   "cell_type": "markdown",
   "id": "f9136c31-17cc-4e7c-bca1-eb09ec8970d8",
   "metadata": {},
   "source": [
    "### Requests & responses"
   ]
  },
  {
   "cell_type": "markdown",
   "id": "dd384ecb-d1db-4ae8-9ab0-456134ef2eae",
   "metadata": {
    "editable": true,
    "slideshow": {
     "slide_type": "slide"
    },
    "tags": []
   },
   "source": [
    "## Synthdefs"
   ]
  },
  {
   "cell_type": "markdown",
   "id": "007e03f0-66a8-412d-8097-267e044d1fd0",
   "metadata": {
    "editable": true,
    "slideshow": {
     "slide_type": "slide"
    },
    "tags": []
   },
   "source": [
    "### Building SynthDefs"
   ]
  },
  {
   "cell_type": "markdown",
   "id": "20bdb140-4fd0-4525-993a-d555cb910464",
   "metadata": {
    "editable": true,
    "jp-MarkdownHeadingCollapsed": true,
    "slideshow": {
     "slide_type": "slide"
    },
    "tags": []
   },
   "source": [
    "### `synthdef` decorator"
   ]
  },
  {
   "cell_type": "markdown",
   "id": "143a4757-cffb-47e5-b746-ee1dc1453e29",
   "metadata": {
    "editable": true,
    "slideshow": {
     "slide_type": "slide"
    },
    "tags": []
   },
   "source": [
    "### Graphing SynthDefs"
   ]
  },
  {
   "cell_type": "markdown",
   "id": "a95788b3-a201-4e62-86a6-7c2df5a0e526",
   "metadata": {
    "editable": true,
    "slideshow": {
     "slide_type": "slide"
    },
    "tags": []
   },
   "source": [
    "### SynthDef internals"
   ]
  },
  {
   "cell_type": "markdown",
   "id": "1f095544-a983-4380-9e9d-f541aa66d213",
   "metadata": {
    "editable": true,
    "jp-MarkdownHeadingCollapsed": true,
    "slideshow": {
     "slide_type": "slide"
    },
    "tags": []
   },
   "source": [
    "### Envelopes"
   ]
  },
  {
   "cell_type": "markdown",
   "id": "36684b3b-6be0-40a2-918a-d264a97a084f",
   "metadata": {
    "editable": true,
    "slideshow": {
     "slide_type": "slide"
    },
    "tags": []
   },
   "source": [
    "### Done actions"
   ]
  },
  {
   "cell_type": "markdown",
   "id": "60997dc9-4c61-47a4-ac63-5ae193a05d40",
   "metadata": {
    "editable": true,
    "slideshow": {
     "slide_type": "slide"
    },
    "tags": []
   },
   "source": [
    "## Clocks & Patterns"
   ]
  },
  {
   "cell_type": "markdown",
   "id": "ce3a1389-93bd-4bbe-8870-afe22f648098",
   "metadata": {
    "editable": true,
    "slideshow": {
     "slide_type": "slide"
    },
    "tags": []
   },
   "source": [
    "## Non-Realtime\n",
    "\n",
    "- server\n",
    "- session\n",
    "- mutations vs queries\n",
    "- rendering (async)"
   ]
  },
  {
   "cell_type": "markdown",
   "id": "658da160-c86b-438e-9609-0d45613dda06",
   "metadata": {
    "editable": true,
    "slideshow": {
     "slide_type": "slide"
    },
    "tags": []
   },
   "source": [
    "## Concurrency\n",
    "\n",
    "- server\n",
    "- async server\n",
    "- threaded concurrency\n",
    "- event loop / coroutine concurrency"
   ]
  },
  {
   "cell_type": "markdown",
   "id": "0dd73ac9-7ded-4dc5-b908-82c423aca218",
   "metadata": {
    "editable": true,
    "slideshow": {
     "slide_type": "slide"
    },
    "tags": []
   },
   "source": [
    "## Mixers"
   ]
  },
  {
   "cell_type": "markdown",
   "id": "3d1062fb-5675-4f75-8b04-2c5cc67e8884",
   "metadata": {
    "editable": true,
    "slideshow": {
     "slide_type": "slide"
    },
    "tags": []
   },
   "source": [
    "## Cleanliness\n",
    "\n",
    "- docs\n",
    "- typing\n",
    "- testing\n",
    "- ci/cd"
   ]
  }
 ],
 "metadata": {
  "kernelspec": {
   "display_name": "Python 3 (ipykernel)",
   "language": "python",
   "name": "python3"
  },
  "language_info": {
   "codemirror_mode": {
    "name": "ipython",
    "version": 3
   },
   "file_extension": ".py",
   "mimetype": "text/x-python",
   "name": "python",
   "nbconvert_exporter": "python",
   "pygments_lexer": "ipython3",
   "version": "3.12.2"
  }
 },
 "nbformat": 4,
 "nbformat_minor": 5
}
