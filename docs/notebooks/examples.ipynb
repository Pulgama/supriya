{
 "cells": [
  {
   "cell_type": "code",
   "execution_count": 1,
   "metadata": {},
   "outputs": [],
   "source": [
    "%load_ext supriya.ext.ipython\n",
    "import supriya"
   ]
  },
  {
   "cell_type": "markdown",
   "metadata": {},
   "source": [
    "## Realtime Server Node Tree Model"
   ]
  },
  {
   "cell_type": "code",
   "execution_count": 20,
   "metadata": {},
   "outputs": [],
   "source": [
    "synth_a = supriya.Synth(frequency=99)\n",
    "synth_b = supriya.Synth(frequency=666)\n",
    "synth_c = supriya.Synth(frequency=3333)\n",
    "outer_group = supriya.Group()\n",
    "inner_group = supriya.Group()\n",
    "outer_group.extend([synth_a, inner_group, synth_c])\n",
    "inner_group.append(synth_b)"
   ]
  },
  {
   "cell_type": "code",
   "execution_count": 21,
   "metadata": {},
   "outputs": [
    {
     "name": "stdout",
     "output_type": "stream",
     "text": [
      "<- Synth: ???>\n",
      "<- Group: ???>\n",
      "<- Synth: ???>\n"
     ]
    }
   ],
   "source": [
    "# groups know about their children\n",
    "for node in outer_group.children:\n",
    "    print(repr(node))"
   ]
  },
  {
   "cell_type": "code",
   "execution_count": 22,
   "metadata": {
    "scrolled": true
   },
   "outputs": [
    {
     "name": "stdout",
     "output_type": "stream",
     "text": [
      "<- Synth: ???>\n",
      "<- Group: ???>\n",
      "<- Group: ???>\n"
     ]
    }
   ],
   "source": [
    "# and nodes know about their parents\n",
    "for node in synth_b.parentage:\n",
    "    print(repr(node))"
   ]
  },
  {
   "cell_type": "code",
   "execution_count": 23,
   "metadata": {},
   "outputs": [
    {
     "data": {
      "text/plain": [
       "<Server: udp://127.0.0.1:57751, 8i8o>"
      ]
     },
     "execution_count": 23,
     "metadata": {},
     "output_type": "execute_result"
    }
   ],
   "source": [
    "server = supriya.Server()\n",
    "server.boot()"
   ]
  },
  {
   "cell_type": "code",
   "execution_count": 24,
   "metadata": {},
   "outputs": [
    {
     "name": "stdout",
     "output_type": "stream",
     "text": [
      "NODE TREE 0 group\n",
      "    1 group\n"
     ]
    }
   ],
   "source": [
    "# we can query the node tree via /g_queryTree requests\n",
    "print(server)"
   ]
  },
  {
   "cell_type": "code",
   "execution_count": 7,
   "metadata": {},
   "outputs": [
    {
     "name": "stdout",
     "output_type": "stream",
     "text": [
      "NODE TREE 0 group\n",
      "    1 group\n",
      "        1000 group\n",
      "            1001 default\n",
      "                out: 0.0, amplitude: 0.1, frequency: 99.0, gate: 1.0, pan: 0.5\n",
      "            1002 group\n",
      "                1003 default\n",
      "                    out: 0.0, amplitude: 0.1, frequency: 666.0, gate: 1.0, pan: 0.5\n",
      "            1004 default\n",
      "                out: 0.0, amplitude: 0.1, frequency: 3333.0, gate: 1.0, pan: 0.5\n"
     ]
    }
   ],
   "source": [
    "# allocating a group also recursively allocates its children\n",
    "outer_group.allocate()\n",
    "print(server)"
   ]
  },
  {
   "cell_type": "markdown",
   "metadata": {},
   "source": [
    "TODO: Are SynthDef's marked as allocated client-side when allocated during node allocation?"
   ]
  },
  {
   "cell_type": "code",
   "execution_count": 30,
   "metadata": {},
   "outputs": [
    {
     "name": "stdout",
     "output_type": "stream",
     "text": [
      "TIMED OUT: QuitRequest()\n"
     ]
    }
   ],
   "source": [
    "synth_d = supriya.Synth(synthdef=supriya.assets.synthdefs.pad).allocate()"
   ]
  },
  {
   "cell_type": "code",
   "execution_count": 29,
   "metadata": {},
   "outputs": [],
   "source": [
    "# synthdefs are also automatically allocated\n",
    "synth_d = supriya.Synth(synthdef=supriya.assets.synthdefs.pad)\n",
    "with server.osc_io.capture() as capture:\n",
    "    inner_group.extend([synth_d, synth_a])\n",
    "    \n",
    "for message in capture.sent_messages:\n",
    "    print(repr(message))"
   ]
  },
  {
   "cell_type": "code",
   "execution_count": 14,
   "metadata": {},
   "outputs": [
    {
     "name": "stdout",
     "output_type": "stream",
     "text": [
      "<+ Group: 1002>\n",
      "<+ Synth: 1004>\n"
     ]
    }
   ],
   "source": [
    "for node in outer_group.children:\n",
    "    print(repr(node))"
   ]
  },
  {
   "cell_type": "code",
   "execution_count": 15,
   "metadata": {},
   "outputs": [
    {
     "name": "stdout",
     "output_type": "stream",
     "text": [
      "<+ Synth: 1003>\n",
      "<+ Group: 1002>\n",
      "<+ Group: 1000>\n",
      "<+ Group: 1>\n",
      "<+ RootNode: 0>\n"
     ]
    }
   ],
   "source": [
    "# the default group\n",
    "for node in synth_b.parentage:\n",
    "    print(repr(node))"
   ]
  },
  {
   "cell_type": "code",
   "execution_count": 16,
   "metadata": {},
   "outputs": [
    {
     "data": {
      "text/plain": [
       "<- Group: ???>"
      ]
     },
     "execution_count": 16,
     "metadata": {},
     "output_type": "execute_result"
    }
   ],
   "source": [
    "outer_group.free()"
   ]
  },
  {
   "cell_type": "code",
   "execution_count": 17,
   "metadata": {},
   "outputs": [
    {
     "name": "stdout",
     "output_type": "stream",
     "text": [
      "NODE TREE 0 group\n",
      "    1 group\n",
      "        1006 pad\n",
      "            out: 0.0, amplitude: 0.1, filter_frequency: 1500.0, frequency: 440.0, gate: 1.0, pan: 0.0\n"
     ]
    }
   ],
   "source": [
    "print(server)"
   ]
  },
  {
   "cell_type": "code",
   "execution_count": 18,
   "metadata": {},
   "outputs": [
    {
     "name": "stdout",
     "output_type": "stream",
     "text": [
      "??? group\n",
      "    ??? group\n",
      "        ??? default\n",
      "            amplitude: 0.1, frequency: 666.0, gate: 1.0, out: 0.0, pan: 0.5\n",
      "        ??? pad\n",
      "            amplitude: 0.1, filter_frequency: 1500.0, frequency: 440.0, gate: 1.0, out: 0.0, pan: 0.0\n",
      "        ??? pad\n",
      "            amplitude: 0.1, filter_frequency: 1500.0, frequency: 440.0, gate: 1.0, out: 0.0, pan: 0.0\n",
      "        ??? pad\n",
      "            amplitude: 0.1, filter_frequency: 1500.0, frequency: 440.0, gate: 1.0, out: 0.0, pan: 0.0\n",
      "        ??? default\n",
      "            amplitude: 0.1, frequency: 99.0, gate: 1.0, out: 0.0, pan: 0.5\n",
      "    ??? default\n",
      "        amplitude: 0.1, frequency: 3333.0, gate: 1.0, out: 0.0, pan: 0.5\n"
     ]
    }
   ],
   "source": [
    "print(outer_group)"
   ]
  },
  {
   "cell_type": "code",
   "execution_count": 19,
   "metadata": {},
   "outputs": [
    {
     "data": {
      "text/plain": [
       "<Server: offline>"
      ]
     },
     "execution_count": 19,
     "metadata": {},
     "output_type": "execute_result"
    }
   ],
   "source": [
    "server.quit()"
   ]
  },
  {
   "cell_type": "markdown",
   "metadata": {},
   "source": [
    "## OSC Command Aggregation"
   ]
  },
  {
   "cell_type": "markdown",
   "metadata": {},
   "source": [
    "## Requests and Responses"
   ]
  },
  {
   "cell_type": "markdown",
   "metadata": {},
   "source": [
    "## SynthDef Builders\n",
    "\n",
    "SynthDefs are built via context managers, not via the namespaces of functions\n",
    "\n",
    "SynthDefs do not need to be named; Supriya uses hashing to generate unique names"
   ]
  },
  {
   "cell_type": "markdown",
   "metadata": {},
   "source": [
    "## Graphviz Everything"
   ]
  },
  {
   "cell_type": "markdown",
   "metadata": {},
   "source": [
    "## SynthDef Factories"
   ]
  },
  {
   "cell_type": "markdown",
   "metadata": {},
   "source": [
    "## Non-realtime Session Model"
   ]
  },
  {
   "cell_type": "markdown",
   "metadata": {},
   "source": [
    "## Non-realtime Session \"Renderables\""
   ]
  },
  {
   "cell_type": "markdown",
   "metadata": {},
   "source": [
    "## NRT Dependency Tree (turtles all the way down)"
   ]
  },
  {
   "cell_type": "markdown",
   "metadata": {},
   "source": [
    "## (N)RT Patterns"
   ]
  },
  {
   "cell_type": "markdown",
   "metadata": {},
   "source": [
    "## CLI Tooling and NRT Projects"
   ]
  }
 ],
 "metadata": {
  "kernelspec": {
   "display_name": "Python 3",
   "language": "python",
   "name": "python3"
  },
  "language_info": {
   "codemirror_mode": {
    "name": "ipython",
    "version": 3
   },
   "file_extension": ".py",
   "mimetype": "text/x-python",
   "name": "python",
   "nbconvert_exporter": "python",
   "pygments_lexer": "ipython3",
   "version": "3.6.5"
  },
  "toc": {
   "base_numbering": 1,
   "nav_menu": {},
   "number_sections": true,
   "sideBar": true,
   "skip_h1_title": true,
   "title_cell": "Table of Contents",
   "title_sidebar": "Contents",
   "toc_cell": false,
   "toc_position": {},
   "toc_section_display": true,
   "toc_window_display": false
  }
 },
 "nbformat": 4,
 "nbformat_minor": 2
}
