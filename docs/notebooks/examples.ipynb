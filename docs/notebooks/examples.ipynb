{
 "cells": [
  {
   "cell_type": "code",
   "execution_count": 1,
   "metadata": {},
   "outputs": [],
   "source": [
    "%load_ext supriya.ext.ipython\n",
    "import supriya"
   ]
  },
  {
   "cell_type": "markdown",
   "metadata": {},
   "source": [
    "## Realtime Server Node Tree Model"
   ]
  },
  {
   "cell_type": "code",
   "execution_count": 2,
   "metadata": {},
   "outputs": [],
   "source": [
    "synth_a = supriya.Synth(frequency=99)\n",
    "synth_b = supriya.Synth(frequency=666)\n",
    "synth_c = supriya.Synth(frequency=3333)\n",
    "outer_group = supriya.Group()\n",
    "inner_group = supriya.Group()\n",
    "outer_group.extend([synth_a, inner_group, synth_c])\n",
    "inner_group.append(synth_b)"
   ]
  },
  {
   "cell_type": "code",
   "execution_count": 3,
   "metadata": {},
   "outputs": [
    {
     "name": "stdout",
     "output_type": "stream",
     "text": [
      "<- Synth: ???>\n",
      "<- Group: ???>\n",
      "<- Synth: ???>\n"
     ]
    }
   ],
   "source": [
    "# groups know about their children\n",
    "for node in outer_group.children:\n",
    "    print(repr(node))"
   ]
  },
  {
   "cell_type": "code",
   "execution_count": 4,
   "metadata": {
    "scrolled": true
   },
   "outputs": [
    {
     "name": "stdout",
     "output_type": "stream",
     "text": [
      "<- Synth: ???>\n",
      "<- Group: ???>\n",
      "<- Group: ???>\n"
     ]
    }
   ],
   "source": [
    "# and nodes know about their parents\n",
    "for node in synth_b.parentage:\n",
    "    print(repr(node))"
   ]
  },
  {
   "cell_type": "code",
   "execution_count": 5,
   "metadata": {},
   "outputs": [
    {
     "data": {
      "text/plain": [
       "<Server: udp://127.0.0.1:57751, 8i8o>"
      ]
     },
     "execution_count": 5,
     "metadata": {},
     "output_type": "execute_result"
    }
   ],
   "source": [
    "server = supriya.Server()\n",
    "server.boot()"
   ]
  },
  {
   "cell_type": "code",
   "execution_count": 6,
   "metadata": {},
   "outputs": [
    {
     "name": "stdout",
     "output_type": "stream",
     "text": [
      "NODE TREE 0 group\n",
      "    1 group\n"
     ]
    }
   ],
   "source": [
    "# we can query the node tree via /g_queryTree requests\n",
    "print(server)"
   ]
  },
  {
   "cell_type": "code",
   "execution_count": 7,
   "metadata": {},
   "outputs": [
    {
     "name": "stdout",
     "output_type": "stream",
     "text": [
      "NODE TREE 0 group\n",
      "    1 group\n",
      "        1000 group\n",
      "            1001 default\n",
      "                out: 0.0, amplitude: 0.1, frequency: 99.0, gate: 1.0, pan: 0.5\n",
      "            1002 group\n",
      "                1003 default\n",
      "                    out: 0.0, amplitude: 0.1, frequency: 666.0, gate: 1.0, pan: 0.5\n",
      "            1004 default\n",
      "                out: 0.0, amplitude: 0.1, frequency: 3333.0, gate: 1.0, pan: 0.5\n"
     ]
    }
   ],
   "source": [
    "# allocating a group also recursively allocates its children\n",
    "outer_group.allocate()\n",
    "print(server)"
   ]
  },
  {
   "cell_type": "code",
   "execution_count": 8,
   "metadata": {},
   "outputs": [
    {
     "name": "stdout",
     "output_type": "stream",
     "text": [
      "FAILED: size 40\n",
      "   0   2f 66 61 69  6c 00 00 00  2c 73 73 00  2f 73 5f 6e   |/fail...,ss./s_n|\n",
      "  16   65 77 00 00  53 79 6e 74  68 44 65 66  20 6e 6f 74   |ew..SynthDef not|\n",
      "  32   20 66 6f 75  6e 64 00 00                             | found..|\n",
      "OscMessage(5, bytearray(b'SCgf\\x00\\x00\\x00\\x02\\x00\\x01\\x03pad\\x00\\x00\\x00\\t?\\x80\\x00\\x00\\x00\\x00\\x00\\x00@\\x00\\x00\\x00\\xc2\\xc6\\x00\\x00@@\\x00\\x00@\\xa0\\x00\\x00\\xc0\\x80\\x00\\x00>L\\xcc\\xcd?\\x00\\x00\\x00\\x00\\x00\\x00\\x06\\x00\\x00\\x00\\x00=\\xcc\\xcc\\xcdD\\xbb\\x80\\x00C\\xdc\\x00\\x00?\\x80\\x00\\x00\\x00\\x00\\x00\\x00\\x00\\x00\\x00\\x06\\tamplitude\\x00\\x00\\x00\\x01\\x10filter_frequency\\x00\\x00\\x00\\x02\\tfrequency\\x00\\x00\\x00\\x03\\x04gate\\x00\\x00\\x00\\x04\\x03out\\x00\\x00\\x00\\x00\\x03pan\\x00\\x00\\x00\\x05\\x00\\x00\\x00(\\x07Control\\x00\\x00\\x00\\x00\\x00\\x00\\x00\\x00\\x01\\x00\\x00\\x00\\x07Control\\x01\\x00\\x00\\x00\\x00\\x00\\x00\\x00\\x05\\x00\\x01\\x01\\x01\\x01\\x01\\x01\\x06EnvGen\\x02\\x00\\x00\\x00\\x11\\x00\\x00\\x00\\x01\\x00\\x00\\x00\\x00\\x00\\x01\\x00\\x00\\x00\\x03\\xff\\xff\\xff\\xff\\x00\\x00\\x00\\x00\\xff\\xff\\xff\\xff\\x00\\x00\\x00\\x01\\xff\\xff\\xff\\xff\\x00\\x00\\x00\\x00\\xff\\xff\\xff\\xff\\x00\\x00\\x00\\x02\\xff\\xff\\xff\\xff\\x00\\x00\\x00\\x01\\xff\\xff\\xff\\xff\\x00\\x00\\x00\\x02\\xff\\xff\\xff\\xff\\x00\\x00\\x00\\x00\\xff\\xff\\xff\\xff\\x00\\x00\\x00\\x03\\xff\\xff\\xff\\xff\\x00\\x00\\x00\\x00\\xff\\xff\\xff\\xff\\x00\\x00\\x00\\x04\\xff\\xff\\xff\\xff\\x00\\x00\\x00\\x05\\xff\\xff\\xff\\xff\\x00\\x00\\x00\\x06\\xff\\xff\\xff\\xff\\x00\\x00\\x00\\x01\\xff\\xff\\xff\\xff\\x00\\x00\\x00\\x04\\xff\\xff\\xff\\xff\\x00\\x00\\x00\\x05\\xff\\xff\\xff\\xff\\x00\\x00\\x00\\x06\\x02\\x08LFNoise2\\x01\\x00\\x00\\x00\\x01\\x00\\x00\\x00\\x01\\x00\\x00\\xff\\xff\\xff\\xff\\x00\\x00\\x00\\x04\\x01\\x0bUnaryOpUGen\\x01\\x00\\x00\\x00\\x01\\x00\\x00\\x00\\x01\\x00\\x13\\x00\\x00\\x00\\x03\\x00\\x00\\x00\\x00\\x01\\x0cBinaryOpUGen\\x01\\x00\\x00\\x00\\x02\\x00\\x00\\x00\\x01\\x00\\x02\\x00\\x00\\x00\\x01\\x00\\x00\\x00\\x02\\x00\\x00\\x00\\x04\\x00\\x00\\x00\\x00\\x01\\x08LFNoise2\\x01\\x00\\x00\\x00\\x01\\x00\\x00\\x00\\x01\\x00\\x00\\xff\\xff\\xff\\xff\\x00\\x00\\x00\\x04\\x01\\x06MulAdd\\x01\\x00\\x00\\x00\\x03\\x00\\x00\\x00\\x01\\x00\\x00\\x00\\x00\\x00\\x06\\x00\\x00\\x00\\x00\\xff\\xff\\xff\\xff\\x00\\x00\\x00\\x07\\xff\\xff\\xff\\xff\\x00\\x00\\x00\\x08\\x01\\x05Pulse\\x02\\x00\\x00\\x00\\x02\\x00\\x00\\x00\\x01\\x00\\x00\\x00\\x00\\x00\\x05\\x00\\x00\\x00\\x00\\x00\\x00\\x00\\x07\\x00\\x00\\x00\\x00\\x02\\x08LFNoise2\\x01\\x00\\x00\\x00\\x01\\x00\\x00\\x00\\x01\\x00\\x00\\xff\\xff\\xff\\xff\\x00\\x00\\x00\\x04\\x01\\x0bUnaryOpUGen\\x01\\x00\\x00\\x00\\x01\\x00\\x00\\x00\\x01\\x00\\x13\\x00\\x00\\x00\\t\\x00\\x00\\x00\\x00\\x01\\x0cBinaryOpUGen\\x01\\x00\\x00\\x00\\x02\\x00\\x00\\x00\\x01\\x00\\x02\\x00\\x00\\x00\\x01\\x00\\x00\\x00\\x02\\x00\\x00\\x00\\n\\x00\\x00\\x00\\x00\\x01\\x0cBinaryOpUGen\\x01\\x00\\x00\\x00\\x02\\x00\\x00\\x00\\x01\\x00\\x02\\x00\\x00\\x00\\x0b\\x00\\x00\\x00\\x00\\xff\\xff\\xff\\xff\\x00\\x00\\x00\\x08\\x01\\x08LFNoise2\\x01\\x00\\x00\\x00\\x01\\x00\\x00\\x00\\x01\\x00\\x00\\xff\\xff\\xff\\xff\\x00\\x00\\x00\\x04\\x01\\x06MulAdd\\x01\\x00\\x00\\x00\\x03\\x00\\x00\\x00\\x01\\x00\\x00\\x00\\x00\\x00\\r\\x00\\x00\\x00\\x00\\xff\\xff\\xff\\xff\\x00\\x00\\x00\\x07\\xff\\xff\\xff\\xff\\x00\\x00\\x00\\x08\\x01\\x05Pulse\\x02\\x00\\x00\\x00\\x02\\x00\\x00\\x00\\x01\\x00\\x00\\x00\\x00\\x00\\x0c\\x00\\x00\\x00\\x00\\x00\\x00\\x00\\x0e\\x00\\x00\\x00\\x00\\x02\\x08LFNoise2\\x01\\x00\\x00\\x00\\x01\\x00\\x00\\x00\\x01\\x00\\x00\\xff\\xff\\xff\\xff\\x00\\x00\\x00\\x04\\x01\\x0bUnaryOpUGen\\x01\\x00\\x00\\x00\\x01\\x00\\x00\\x00\\x01\\x00\\x13\\x00\\x00\\x00\\x10\\x00\\x00\\x00\\x00\\x01\\x0cBinaryOpUGen\\x01\\x00\\x00\\x00\\x02\\x00\\x00\\x00\\x01\\x00\\x02\\x00\\x00\\x00\\x01\\x00\\x00\\x00\\x02\\x00\\x00\\x00\\x11\\x00\\x00\\x00\\x00\\x01\\x0cBinaryOpUGen\\x01\\x00\\x00\\x00\\x02\\x00\\x00\\x00\\x01\\x00\\x02\\x00\\x00\\x00\\x12\\x00\\x00\\x00\\x00\\xff\\xff\\xff\\xff\\x00\\x00\\x00\\x08\\x01\\x08LFNoise2\\x01\\x00\\x00\\x00\\x01\\x00\\x00\\x00\\x01\\x00\\x00\\xff\\xff\\xff\\xff\\x00\\x00\\x00\\x04\\x01\\x06MulAdd\\x01\\x00\\x00\\x00\\x03\\x00\\x00\\x00\\x01\\x00\\x00\\x00\\x00\\x00\\x14\\x00\\x00\\x00\\x00\\xff\\xff\\xff\\xff\\x00\\x00\\x00\\x07\\xff\\xff\\xff\\xff\\x00\\x00\\x00\\x08\\x01\\x05Pulse\\x02\\x00\\x00\\x00\\x02\\x00\\x00\\x00\\x01\\x00\\x00\\x00\\x00\\x00\\x13\\x00\\x00\\x00\\x00\\x00\\x00\\x00\\x15\\x00\\x00\\x00\\x00\\x02\\x08LFNoise2\\x01\\x00\\x00\\x00\\x01\\x00\\x00\\x00\\x01\\x00\\x00\\xff\\xff\\xff\\xff\\x00\\x00\\x00\\x04\\x01\\x0bUnaryOpUGen\\x01\\x00\\x00\\x00\\x01\\x00\\x00\\x00\\x01\\x00\\x13\\x00\\x00\\x00\\x17\\x00\\x00\\x00\\x00\\x01\\x0cBinaryOpUGen\\x01\\x00\\x00\\x00\\x02\\x00\\x00\\x00\\x01\\x00\\x02\\x00\\x00\\x00\\x01\\x00\\x00\\x00\\x02\\x00\\x00\\x00\\x18\\x00\\x00\\x00\\x00\\x01\\x08LFNoise2\\x01\\x00\\x00\\x00\\x01\\x00\\x00\\x00\\x01\\x00\\x00\\xff\\xff\\xff\\xff\\x00\\x00\\x00\\x04\\x01\\x06MulAdd\\x01\\x00\\x00\\x00\\x03\\x00\\x00\\x00\\x01\\x00\\x00\\x00\\x00\\x00\\x1a\\x00\\x00\\x00\\x00\\xff\\xff\\xff\\xff\\x00\\x00\\x00\\x07\\xff\\xff\\xff\\xff\\x00\\x00\\x00\\x08\\x01\\x05Pulse\\x02\\x00\\x00\\x00\\x02\\x00\\x00\\x00\\x01\\x00\\x00\\x00\\x00\\x00\\x19\\x00\\x00\\x00\\x00\\x00\\x00\\x00\\x1b\\x00\\x00\\x00\\x00\\x02\\x05Splay\\x02\\x00\\x00\\x00\\x08\\x00\\x00\\x00\\x02\\x00\\x00\\xff\\xff\\xff\\xff\\x00\\x00\\x00\\x00\\xff\\xff\\xff\\xff\\x00\\x00\\x00\\x00\\xff\\xff\\xff\\xff\\x00\\x00\\x00\\x01\\xff\\xff\\xff\\xff\\x00\\x00\\x00\\x00\\x00\\x00\\x00\\x08\\x00\\x00\\x00\\x00\\x00\\x00\\x00\\x0f\\x00\\x00\\x00\\x00\\x00\\x00\\x00\\x16\\x00\\x00\\x00\\x00\\x00\\x00\\x00\\x1c\\x00\\x00\\x00\\x00\\x02\\x02\\x03LPF\\x02\\x00\\x00\\x00\\x02\\x00\\x00\\x00\\x01\\x00\\x00\\x00\\x00\\x00\\x1d\\x00\\x00\\x00\\x00\\x00\\x00\\x00\\x01\\x00\\x00\\x00\\x01\\x02\\x03LPF\\x02\\x00\\x00\\x00\\x02\\x00\\x00\\x00\\x01\\x00\\x00\\x00\\x00\\x00\\x1e\\x00\\x00\\x00\\x00\\x00\\x00\\x00\\x01\\x00\\x00\\x00\\x01\\x02\\x03LPF\\x02\\x00\\x00\\x00\\x02\\x00\\x00\\x00\\x01\\x00\\x00\\x00\\x00\\x00\\x1f\\x00\\x00\\x00\\x00\\x00\\x00\\x00\\x01\\x00\\x00\\x00\\x01\\x02\\x0cBinaryOpUGen\\x02\\x00\\x00\\x00\\x02\\x00\\x00\\x00\\x01\\x00\\x02\\x00\\x00\\x00 \\x00\\x00\\x00\\x00\\x00\\x00\\x00\\x02\\x00\\x00\\x00\\x00\\x02\\x03LPF\\x02\\x00\\x00\\x00\\x02\\x00\\x00\\x00\\x01\\x00\\x00\\x00\\x00\\x00\\x1d\\x00\\x00\\x00\\x01\\x00\\x00\\x00\\x01\\x00\\x00\\x00\\x01\\x02\\x03LPF\\x02\\x00\\x00\\x00\\x02\\x00\\x00\\x00\\x01\\x00\\x00\\x00\\x00\\x00\"\\x00\\x00\\x00\\x00\\x00\\x00\\x00\\x01\\x00\\x00\\x00\\x01\\x02\\x03LPF\\x02\\x00\\x00\\x00\\x02\\x00\\x00\\x00\\x01\\x00\\x00\\x00\\x00\\x00#\\x00\\x00\\x00\\x00\\x00\\x00\\x00\\x01\\x00\\x00\\x00\\x01\\x02\\x0cBinaryOpUGen\\x02\\x00\\x00\\x00\\x02\\x00\\x00\\x00\\x01\\x00\\x02\\x00\\x00\\x00$\\x00\\x00\\x00\\x00\\x00\\x00\\x00\\x02\\x00\\x00\\x00\\x00\\x02\\x08Balance2\\x02\\x00\\x00\\x00\\x04\\x00\\x00\\x00\\x02\\x00\\x00\\x00\\x00\\x00!\\x00\\x00\\x00\\x00\\x00\\x00\\x00%\\x00\\x00\\x00\\x00\\x00\\x00\\x00\\x01\\x00\\x00\\x00\\x04\\x00\\x00\\x00\\x01\\x00\\x00\\x00\\x00\\x02\\x02\\x03Out\\x02\\x00\\x00\\x00\\x03\\x00\\x00\\x00\\x00\\x00\\x00\\x00\\x00\\x00\\x00\\x00\\x00\\x00\\x00\\x00\\x00\\x00&\\x00\\x00\\x00\\x00\\x00\\x00\\x00&\\x00\\x00\\x00\\x01\\x00\\x00'), OscBundle(\n",
      "    contents=(\n",
      "        OscMessage(9, 'pad', 1005, 3, 1003),\n",
      "        OscMessage(19, 1001, 1005),\n",
      "        ),\n",
      "    ))\n"
     ]
    }
   ],
   "source": [
    "# synthdefs are also automatically allocated\n",
    "synth_d = supriya.Synth(synthdef=supriya.assets.synthdefs.pad)\n",
    "with server.osc_io.capture() as capture:\n",
    "    inner_group.extend([synth_d, synth_a])\n",
    "    \n",
    "for message in capture.sent_messages:\n",
    "    print(repr(message))"
   ]
  },
  {
   "cell_type": "code",
   "execution_count": null,
   "metadata": {},
   "outputs": [],
   "source": [
    "for node in outer_group.children:\n",
    "    print(repr(node))"
   ]
  },
  {
   "cell_type": "code",
   "execution_count": null,
   "metadata": {},
   "outputs": [],
   "source": [
    "# the default group\n",
    "for node in synth_b.parentage:\n",
    "    print(repr(node))"
   ]
  },
  {
   "cell_type": "code",
   "execution_count": null,
   "metadata": {},
   "outputs": [],
   "source": [
    "outer_group.free()"
   ]
  },
  {
   "cell_type": "code",
   "execution_count": null,
   "metadata": {},
   "outputs": [],
   "source": [
    "print(server)"
   ]
  },
  {
   "cell_type": "code",
   "execution_count": null,
   "metadata": {},
   "outputs": [],
   "source": [
    "print(outer_group)"
   ]
  },
  {
   "cell_type": "code",
   "execution_count": 9,
   "metadata": {},
   "outputs": [
    {
     "data": {
      "text/plain": [
       "<Server: offline>"
      ]
     },
     "execution_count": 9,
     "metadata": {},
     "output_type": "execute_result"
    }
   ],
   "source": [
    "server.quit()"
   ]
  },
  {
   "cell_type": "markdown",
   "metadata": {},
   "source": [
    "## OSC Command Aggregation"
   ]
  },
  {
   "cell_type": "markdown",
   "metadata": {},
   "source": [
    "## Requests and Responses"
   ]
  },
  {
   "cell_type": "markdown",
   "metadata": {},
   "source": [
    "## SynthDef Builders"
   ]
  },
  {
   "cell_type": "markdown",
   "metadata": {},
   "source": [
    "## Graphviz Everything"
   ]
  },
  {
   "cell_type": "markdown",
   "metadata": {},
   "source": [
    "## SynthDef Factories"
   ]
  },
  {
   "cell_type": "markdown",
   "metadata": {},
   "source": [
    "## Non-realtime Session Model"
   ]
  },
  {
   "cell_type": "markdown",
   "metadata": {},
   "source": [
    "## Non-realtime Session \"Renderables\""
   ]
  },
  {
   "cell_type": "markdown",
   "metadata": {},
   "source": [
    "## NRT Dependency Tree (turtles all the way down)"
   ]
  },
  {
   "cell_type": "markdown",
   "metadata": {},
   "source": [
    "## (N)RT Patterns"
   ]
  },
  {
   "cell_type": "markdown",
   "metadata": {},
   "source": [
    "## CLI Tooling and NRT Projects"
   ]
  }
 ],
 "metadata": {
  "kernelspec": {
   "display_name": "Python 3",
   "language": "python",
   "name": "python3"
  },
  "language_info": {
   "codemirror_mode": {
    "name": "ipython",
    "version": 3
   },
   "file_extension": ".py",
   "mimetype": "text/x-python",
   "name": "python",
   "nbconvert_exporter": "python",
   "pygments_lexer": "ipython3",
   "version": "3.6.5"
  },
  "toc": {
   "base_numbering": 1,
   "nav_menu": {},
   "number_sections": true,
   "sideBar": true,
   "skip_h1_title": true,
   "title_cell": "Table of Contents",
   "title_sidebar": "Contents",
   "toc_cell": false,
   "toc_position": {},
   "toc_section_display": true,
   "toc_window_display": false
  }
 },
 "nbformat": 4,
 "nbformat_minor": 2
}
