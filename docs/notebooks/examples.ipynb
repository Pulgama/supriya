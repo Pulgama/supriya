{
 "cells": [
  {
   "cell_type": "code",
   "execution_count": null,
   "metadata": {},
   "outputs": [],
   "source": [
    "%load_ext supriya.ext.ipython\n",
    "import supriya"
   ]
  },
  {
   "cell_type": "markdown",
   "metadata": {},
   "source": [
    "## Realtime Server Node Tree Model"
   ]
  },
  {
   "cell_type": "code",
   "execution_count": null,
   "metadata": {},
   "outputs": [],
   "source": [
    "synth_a = supriya.Synth(frequency=333, name=\"A\")\n",
    "synth_b = supriya.Synth(frequency=444, name=\"B\")\n",
    "synth_c = supriya.Synth(frequency=555, name=\"C\")\n",
    "outer_group = supriya.Group(name=\"Outer\")\n",
    "inner_group = supriya.Group(name=\"Inner\")\n",
    "outer_group.extend([synth_a, inner_group, synth_c])\n",
    "inner_group.append(synth_b)"
   ]
  },
  {
   "cell_type": "code",
   "execution_count": null,
   "metadata": {
    "slideshow": {
     "slide_type": "slide"
    }
   },
   "outputs": [],
   "source": [
    "_ = supriya.graph(outer_group)"
   ]
  },
  {
   "cell_type": "code",
   "execution_count": null,
   "metadata": {},
   "outputs": [],
   "source": [
    "# groups know about their children\n",
    "for index, node in enumerate(outer_group.children):\n",
    "    print(index, repr(node)) "
   ]
  },
  {
   "cell_type": "code",
   "execution_count": null,
   "metadata": {
    "scrolled": true
   },
   "outputs": [],
   "source": [
    "# and nodes know about their parents\n",
    "for distance, node in enumerate(synth_b.parentage):\n",
    "    print(distance, repr(node))"
   ]
  },
  {
   "cell_type": "code",
   "execution_count": null,
   "metadata": {},
   "outputs": [],
   "source": [
    "# nodes can be iterated depthfirst and know their position in the tree\n",
    "for child in outer_group.depth_first():\n",
    "    print(repr(child), child.graph_order)"
   ]
  },
  {
   "cell_type": "code",
   "execution_count": null,
   "metadata": {
    "slideshow": {
     "slide_type": "slide"
    }
   },
   "outputs": [],
   "source": [
    "# booting is just like in sclang\n",
    "server = supriya.Server()\n",
    "server.boot()"
   ]
  },
  {
   "cell_type": "code",
   "execution_count": null,
   "metadata": {},
   "outputs": [],
   "source": [
    "# printing asks for the string representation of an object\n",
    "# string representation are/can be different from interpreter representations\n",
    "# we can query the node tree via /g_queryTree requests\n",
    "print(server)"
   ]
  },
  {
   "cell_type": "code",
   "execution_count": null,
   "metadata": {},
   "outputs": [],
   "source": [
    "# allocating a group also recursively allocates its children\n",
    "outer_group.allocate()\n",
    "print(server)"
   ]
  },
  {
   "cell_type": "code",
   "execution_count": null,
   "metadata": {
    "slideshow": {
     "slide_type": "slide"
    }
   },
   "outputs": [],
   "source": [
    "# we can visualize the allocated node structure\n",
    "_ = supriya.graph(outer_group)"
   ]
  },
  {
   "cell_type": "code",
   "execution_count": null,
   "metadata": {},
   "outputs": [],
   "source": [
    "# TODO: synth and group control interfaces, and their mutability\n",
    "synth_a[\"frequency\"]"
   ]
  },
  {
   "cell_type": "code",
   "execution_count": null,
   "metadata": {},
   "outputs": [],
   "source": [
    "# we can set synth controls, treating the synth like a dictionay\n",
    "synth_a[\"frequency\"] = 666\n",
    "# and query them\n",
    "print(synth_a[\"frequency\"])"
   ]
  },
  {
   "cell_type": "code",
   "execution_count": null,
   "metadata": {},
   "outputs": [],
   "source": [
    "# the synth controls are also explicitly modeled, hidden inside the \"controls\" interface\n",
    "for control_name in synth_a.controls:\n",
    "    print(repr(synth_a.controls[control_name]))"
   ]
  },
  {
   "cell_type": "code",
   "execution_count": null,
   "metadata": {},
   "outputs": [],
   "source": [
    "# groups also have a control interface, aggregating controls from synths in their subtree\n",
    "for control_name in outer_group.controls:\n",
    "    print(repr(outer_group.controls[control_name]))"
   ]
  },
  {
   "cell_type": "code",
   "execution_count": null,
   "metadata": {},
   "outputs": [],
   "source": [
    "# we can allocate new nodes and move existing nodes in the same command\n",
    "# synthdefs are also automatically allocated\n",
    "# we use the completion message of the /s_new to perform the node allocation / movement\n",
    "# this synth uses a non-default synthdef, which hasn't previously been allocated on the server\n",
    "synth_d = supriya.Synth(synthdef=supriya.assets.synthdefs.pad)\n",
    "inner_group.extend([synth_d, synth_a])"
   ]
  },
  {
   "cell_type": "code",
   "execution_count": null,
   "metadata": {},
   "outputs": [],
   "source": [
    "# iteration continues to work\n",
    "for node in outer_group.children:\n",
    "    print(repr(node))"
   ]
  },
  {
   "cell_type": "code",
   "execution_count": null,
   "metadata": {},
   "outputs": [],
   "source": [
    "for control_name in outer_group.controls:\n",
    "    print(control_name)"
   ]
  },
  {
   "cell_type": "code",
   "execution_count": null,
   "metadata": {
    "slideshow": {
     "slide_type": "slide"
    }
   },
   "outputs": [],
   "source": [
    "# we can also visualize the entire server node structure, including the root node and default group\n",
    "_ = supriya.graph(server)"
   ]
  },
  {
   "cell_type": "code",
   "execution_count": null,
   "metadata": {
    "slideshow": {
     "slide_type": "slide"
    }
   },
   "outputs": [],
   "source": [
    "outer_group.free()"
   ]
  },
  {
   "cell_type": "code",
   "execution_count": null,
   "metadata": {},
   "outputs": [],
   "source": [
    "print(server)"
   ]
  },
  {
   "cell_type": "code",
   "execution_count": null,
   "metadata": {},
   "outputs": [],
   "source": [
    "# explicitly freeing a group does not destructure its children\n",
    "print(outer_group)"
   ]
  },
  {
   "cell_type": "code",
   "execution_count": null,
   "metadata": {},
   "outputs": [],
   "source": [
    "_ = supriya.graph(outer_group)"
   ]
  },
  {
   "cell_type": "code",
   "execution_count": null,
   "metadata": {},
   "outputs": [],
   "source": [
    "server.quit()"
   ]
  },
  {
   "cell_type": "markdown",
   "metadata": {},
   "source": [
    "## OSC Command Aggregation"
   ]
  },
  {
   "cell_type": "code",
   "execution_count": null,
   "metadata": {},
   "outputs": [],
   "source": [
    "server = supriya.Server().boot()\n",
    "server.debug_request_names = True"
   ]
  },
  {
   "cell_type": "code",
   "execution_count": null,
   "metadata": {},
   "outputs": [],
   "source": [
    "synth_a = supriya.Synth(frequency=333)\n",
    "synth_b = supriya.Synth(frequency=444)\n",
    "synth_c = supriya.Synth(frequency=555)\n",
    "outer_group = supriya.Group()\n",
    "inner_group = supriya.Group()\n",
    "outer_group.extend([synth_a, inner_group, synth_c])\n",
    "inner_group.append(synth_b)\n",
    "print(outer_group)"
   ]
  },
  {
   "cell_type": "code",
   "execution_count": null,
   "metadata": {},
   "outputs": [],
   "source": [
    "# let's allocate the default synthdef manually (you'll see why soon)\n",
    "supriya.assets.synthdefs.default.allocate()"
   ]
  },
  {
   "cell_type": "code",
   "execution_count": null,
   "metadata": {},
   "outputs": [],
   "source": [
    "# we can spy on osc messages going to and coming from scsynth\n",
    "with server.osc_io.capture() as transcript:\n",
    "    outer_group.allocate()"
   ]
  },
  {
   "cell_type": "code",
   "execution_count": null,
   "metadata": {},
   "outputs": [],
   "source": [
    "# what was sent when we allocated that group? an osc bundle\n",
    "# supriya models osc bundles and osc messages explicitly as classes\n",
    "# the osc messages are a linearized version of depth-first allocation of the nodes in the subtree\n",
    "for timestamp, osc_message in transcript.sent_messages:\n",
    "    print(repr(osc_message))"
   ]
  },
  {
   "cell_type": "code",
   "execution_count": null,
   "metadata": {},
   "outputs": [],
   "source": [
    "# we also have the responses from the server to each of those /s_new and /g_new commands\n",
    "# and the /synced response as well\n",
    "for timestamp, osc_message in transcript.received_messages:\n",
    "    print(repr(osc_message))"
   ]
  },
  {
   "cell_type": "code",
   "execution_count": null,
   "metadata": {},
   "outputs": [],
   "source": [
    "# recall that i manually allocated the default synthdef earlier\n",
    "# let's make a new synth_d using a simple sine-wave synthdef\n",
    "# let's allocate the new synth and also move synth 1001 into the inner group\n",
    "synth_d = supriya.Synth(synthdef=supriya.assets.synthdefs.simple_sine)\n",
    "with server.osc_io.capture() as transcript:\n",
    "    inner_group.extend([synth_d, synth_a])"
   ]
  },
  {
   "cell_type": "code",
   "execution_count": null,
   "metadata": {},
   "outputs": [],
   "source": [
    "# supriya knows if synthdefs have previously been allocated\n",
    "# when allocating new synths it will generate an /d_recv and\n",
    "# add any node allocation / movement / free commands as the completion message\n",
    "for timestamp, osc_message in transcript.sent_messages:\n",
    "    print(repr(osc_message))"
   ]
  },
  {
   "cell_type": "code",
   "execution_count": null,
   "metadata": {},
   "outputs": [],
   "source": [
    "for timestamp, osc_message in transcript.received_messages:\n",
    "    print(repr(osc_message))"
   ]
  },
  {
   "cell_type": "code",
   "execution_count": null,
   "metadata": {},
   "outputs": [],
   "source": [
    "server.quit()"
   ]
  },
  {
   "cell_type": "markdown",
   "metadata": {},
   "source": [
    "## Requests and Responses"
   ]
  },
  {
   "cell_type": "code",
   "execution_count": null,
   "metadata": {},
   "outputs": [],
   "source": [
    "server = supriya.Server().boot()"
   ]
  },
  {
   "cell_type": "code",
   "execution_count": null,
   "metadata": {},
   "outputs": [],
   "source": [
    "# ok, this is almost the same as before, just simpler\n",
    "synth_a = supriya.Synth(frequency=333)\n",
    "synth_b = supriya.Synth(synthdef=supriya.assets.synthdefs.pad, frequency=444)\n",
    "outer_group = supriya.Group()\n",
    "inner_group = supriya.Group()\n",
    "outer_group.extend([synth_a, inner_group])\n",
    "inner_group.append(synth_b)"
   ]
  },
  {
   "cell_type": "code",
   "execution_count": null,
   "metadata": {},
   "outputs": [],
   "source": [
    "with server.osc_io.capture() as transcript:\n",
    "    outer_group.allocate()"
   ]
  },
  {
   "cell_type": "code",
   "execution_count": null,
   "metadata": {
    "slideshow": {
     "slide_type": "slide"
    }
   },
   "outputs": [],
   "source": [
    "for timestamp, request in transcript.requests:\n",
    "    print(request)"
   ]
  },
  {
   "cell_type": "markdown",
   "metadata": {},
   "source": [
    "None of the above is OSC. It's all explicitly class-modeled.\n",
    "\n",
    "Note that some of the `node_id` and `target_node_id` arguments are actually references to specific `Group` or `Synth` objects rather than just integers.\n",
    "\n",
    "When communicating a request like this to the server, we don't necessarily know the IDs of the nodes until we start to communicate it.\n",
    "\n",
    "- Linearize the request (if necessary) into a series of requests.\n",
    "- Apply each request _locally_, including allocating the ID of each request's node; the request classes implement any necessary logic for local application.\n",
    "- If we want to block until the server processes the request, register an OSC callback using the requests's knowledge of what to expect\n",
    "- Convert the request to OSC and send it\n",
    "- If blocking, wait until we receive the expected response."
   ]
  },
  {
   "cell_type": "code",
   "execution_count": null,
   "metadata": {},
   "outputs": [],
   "source": [
    "for timestamp, response in transcript.responses:\n",
    "    print(response)"
   ]
  },
  {
   "cell_type": "code",
   "execution_count": null,
   "metadata": {},
   "outputs": [],
   "source": [
    "print(dir(supriya.commands))"
   ]
  },
  {
   "cell_type": "markdown",
   "metadata": {},
   "source": [
    "The synthesis server is a state machine.\n",
    "\n",
    "OSC commands are state transitions.\n",
    "\n",
    "The local server is a lossy model of the (complete) synthesis server state."
   ]
  },
  {
   "cell_type": "markdown",
   "metadata": {},
   "source": [
    "## SynthDef Builders\n",
    "\n",
    "SynthDefs are built via context managers, not via the namespaces of functions\n",
    "\n",
    "SynthDefs do not need to be named; Supriya uses hashing to generate unique names"
   ]
  },
  {
   "cell_type": "markdown",
   "metadata": {},
   "source": [
    "## SynthDef Factories"
   ]
  },
  {
   "cell_type": "markdown",
   "metadata": {},
   "source": [
    "## Non-realtime Session Model"
   ]
  },
  {
   "cell_type": "markdown",
   "metadata": {},
   "source": [
    "## The `__render__` protocol"
   ]
  },
  {
   "cell_type": "markdown",
   "metadata": {},
   "source": [
    "## NRT Dependency Tree (turtles all the way down)"
   ]
  },
  {
   "cell_type": "markdown",
   "metadata": {},
   "source": [
    "## (N)RT Patterns"
   ]
  },
  {
   "cell_type": "markdown",
   "metadata": {},
   "source": [
    "## CLI Tooling and NRT Projects"
   ]
  },
  {
   "cell_type": "code",
   "execution_count": null,
   "metadata": {},
   "outputs": [],
   "source": []
  }
 ],
 "metadata": {
  "celltoolbar": "Slideshow",
  "kernelspec": {
   "display_name": "Python 3",
   "language": "python",
   "name": "python3"
  },
  "language_info": {
   "codemirror_mode": {
    "name": "ipython",
    "version": 3
   },
   "file_extension": ".py",
   "mimetype": "text/x-python",
   "name": "python",
   "nbconvert_exporter": "python",
   "pygments_lexer": "ipython3",
   "version": "3.6.5"
  },
  "toc": {
   "base_numbering": 1,
   "nav_menu": {},
   "number_sections": true,
   "sideBar": true,
   "skip_h1_title": true,
   "title_cell": "Table of Contents",
   "title_sidebar": "Contents",
   "toc_cell": false,
   "toc_position": {},
   "toc_section_display": true,
   "toc_window_display": false
  }
 },
 "nbformat": 4,
 "nbformat_minor": 2
}
